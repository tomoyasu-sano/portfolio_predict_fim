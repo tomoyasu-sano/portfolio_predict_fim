{
 "cells": [
  {
   "cell_type": "code",
   "execution_count": 8,
   "metadata": {},
   "outputs": [],
   "source": [
    "import json\n",
    "import os\n",
    "import numpy as np\n",
    "import pickle\n",
    "import pandas as pd\n",
    "from django.shortcuts import render, redirect\n",
    "from django.http import HttpResponse\n",
    "from django.template import loader\n",
    "\n",
    "#from .forms import CareForm\n",
    "\n",
    "\n",
    "prediction_columns = column_afters\n",
    "column_current = column_current\n",
    "almost_prediction_columns = list(prediction_columns[1]) + list(prediction_columns[2]) + list(prediction_columns[3])\n",
    "path_to_models_dir = \"./create_model/trained_models/\""
   ]
  },
  {
   "cell_type": "code",
   "execution_count": 12,
   "metadata": {},
   "outputs": [],
   "source": [
    "input_dict = pd.DataFrame.from_dict(data_dict, orient='index').T\n",
    "input_dict = input_dict[input_columns]\n",
    "input_dict = input_dict.astype('int64')\n"
   ]
  },
  {
   "cell_type": "code",
   "execution_count": 13,
   "metadata": {},
   "outputs": [
    {
     "data": {
      "text/html": [
       "<div>\n",
       "<style scoped>\n",
       "    .dataframe tbody tr th:only-of-type {\n",
       "        vertical-align: middle;\n",
       "    }\n",
       "\n",
       "    .dataframe tbody tr th {\n",
       "        vertical-align: top;\n",
       "    }\n",
       "\n",
       "    .dataframe thead th {\n",
       "        text-align: right;\n",
       "    }\n",
       "</style>\n",
       "<table border=\"1\" class=\"dataframe\">\n",
       "  <thead>\n",
       "    <tr style=\"text-align: right;\">\n",
       "      <th></th>\n",
       "      <th>sex</th>\n",
       "      <th>age</th>\n",
       "      <th>disease</th>\n",
       "      <th>days</th>\n",
       "      <th>helper</th>\n",
       "      <th>meal</th>\n",
       "      <th>hygienic</th>\n",
       "      <th>wipingClean</th>\n",
       "      <th>upperBodyDressing</th>\n",
       "      <th>lowerBodyDressing</th>\n",
       "      <th>...</th>\n",
       "      <th>bedsChairsWheelchairs</th>\n",
       "      <th>toilet</th>\n",
       "      <th>bathtubShower</th>\n",
       "      <th>walkingWheelchair</th>\n",
       "      <th>stairs</th>\n",
       "      <th>understanding</th>\n",
       "      <th>expression</th>\n",
       "      <th>socialCommunication</th>\n",
       "      <th>problemSolving</th>\n",
       "      <th>memory</th>\n",
       "    </tr>\n",
       "  </thead>\n",
       "  <tbody>\n",
       "    <tr>\n",
       "      <th>0</th>\n",
       "      <td>1</td>\n",
       "      <td>70</td>\n",
       "      <td>2</td>\n",
       "      <td>4</td>\n",
       "      <td>1</td>\n",
       "      <td>4</td>\n",
       "      <td>3</td>\n",
       "      <td>4</td>\n",
       "      <td>4</td>\n",
       "      <td>4</td>\n",
       "      <td>...</td>\n",
       "      <td>4</td>\n",
       "      <td>3</td>\n",
       "      <td>3</td>\n",
       "      <td>3</td>\n",
       "      <td>2</td>\n",
       "      <td>5</td>\n",
       "      <td>5</td>\n",
       "      <td>6</td>\n",
       "      <td>5</td>\n",
       "      <td>5</td>\n",
       "    </tr>\n",
       "  </tbody>\n",
       "</table>\n",
       "<p>1 rows × 23 columns</p>\n",
       "</div>"
      ],
      "text/plain": [
       "   sex  age  disease  days  helper  meal  hygienic  wipingClean  \\\n",
       "0    1   70        2     4       1     4         3            4   \n",
       "\n",
       "   upperBodyDressing  lowerBodyDressing  ...  bedsChairsWheelchairs  toilet  \\\n",
       "0                  4                  4  ...                      4       3   \n",
       "\n",
       "   bathtubShower  walkingWheelchair  stairs  understanding  expression  \\\n",
       "0              3                  3       2              5           5   \n",
       "\n",
       "   socialCommunication  problemSolving  memory  \n",
       "0                    6               5       5  \n",
       "\n",
       "[1 rows x 23 columns]"
      ]
     },
     "execution_count": 13,
     "metadata": {},
     "output_type": "execute_result"
    }
   ],
   "source": [
    "input_dict"
   ]
  },
  {
   "cell_type": "code",
   "execution_count": null,
   "metadata": {},
   "outputs": [],
   "source": []
  },
  {
   "cell_type": "code",
   "execution_count": 14,
   "metadata": {},
   "outputs": [
    {
     "name": "stderr",
     "output_type": "stream",
     "text": [
      "/Users/tomoyasu.sano/anaconda3/envs/djangoai/lib/python3.7/site-packages/lightgbm/__init__.py:48: UserWarning: Starting from version 2.2.1, the library file in distribution wheels for macOS is built by the Apple Clang (Xcode_8.3.3) compiler.\n",
      "This means that in case of installing LightGBM from PyPI via the ``pip install lightgbm`` command, you don't need to install the gcc compiler anymore.\n",
      "Instead of that, you need to install the OpenMP library, which is required for running LightGBM on the system with the Apple Clang compiler.\n",
      "You can install the OpenMP library by the following command: ``brew install libomp``.\n",
      "  \"You can install the OpenMP library by the following command: ``brew install libomp``.\", UserWarning)\n"
     ]
    }
   ],
   "source": [
    "results={}\n",
    "results_home={}\n",
    "#学習は0-6でしているため合わせる\n",
    "input_dict[column_current] = input_dict[column_current] - 1\n",
    "\n",
    "for length_value in range(len(prediction_columns)): #4\n",
    "\n",
    "    for col in prediction_columns[length_value]:\n",
    "        name =  col + \"_LGBM.pkl\"\n",
    "        filename = os.path.join(path_to_models_dir, name)\n",
    "\n",
    "        with open(filename, 'rb') as web:\n",
    "            loaded_model = pickle.load(web)\n",
    "\n",
    "         #テストデータの予測\n",
    "        if length_value == 0:\n",
    "            predicted_home = loaded_model.predict(input_dict)\n",
    "\n",
    "            y_pred_home = []\n",
    "            for x in predicted_home:\n",
    "                y_pred_home.append(np.round(x))\n",
    "\n",
    "            y_pred_home = np.array(y_pred_home)\n",
    "            results_home[\"predict_home\"] = [predicted_home[0], y_pred_home[0]]\n",
    "\n",
    "\n",
    "        else:\n",
    "            predicted = loaded_model.predict(input_dict)\n",
    "            y_pred= np.argmax(predicted, axis=1)  # 最尤と判断したクラスの値にする\n",
    "            results[col] = y_pred[0]\n",
    "\n",
    "output_df = pd.DataFrame.from_dict(results, orient='index').T\n",
    "output_df[almost_prediction_columns] = output_df[almost_prediction_columns] + 1\n",
    "\n",
    "\n",
    "df_sum_score, df_score = _acurate_sum(output_df, input_dict)\n",
    "df_graph = pd.DataFrame(np.array(df_sum_score),  index=[\"現在\", \"１ヶ月後予測\", \"2ヶ月後予測\", \"3ヶ月後予測\"],columns=[\"FIM合計点数\"])\n",
    "\n",
    "present = int(df_sum_score[0])\n",
    "after_1M = int(df_sum_score[1])\n",
    "after_2M = int(df_sum_score[2])\n",
    "after_3M = int(df_sum_score[3])\n",
    "\n"
   ]
  },
  {
   "cell_type": "code",
   "execution_count": 15,
   "metadata": {},
   "outputs": [
    {
     "name": "stdout",
     "output_type": "stream",
     "text": [
      "55 90 105 90\n"
     ]
    }
   ],
   "source": [
    "print(present, after_1M, after_2M, after_3M)"
   ]
  },
  {
   "cell_type": "code",
   "execution_count": 16,
   "metadata": {},
   "outputs": [
    {
     "data": {
      "text/html": [
       "<div>\n",
       "<style scoped>\n",
       "    .dataframe tbody tr th:only-of-type {\n",
       "        vertical-align: middle;\n",
       "    }\n",
       "\n",
       "    .dataframe tbody tr th {\n",
       "        vertical-align: top;\n",
       "    }\n",
       "\n",
       "    .dataframe thead th {\n",
       "        text-align: right;\n",
       "    }\n",
       "</style>\n",
       "<table border=\"1\" class=\"dataframe\">\n",
       "  <thead>\n",
       "    <tr style=\"text-align: right;\">\n",
       "      <th></th>\n",
       "      <th>FIM合計点数</th>\n",
       "    </tr>\n",
       "  </thead>\n",
       "  <tbody>\n",
       "    <tr>\n",
       "      <th>現在</th>\n",
       "      <td>55</td>\n",
       "    </tr>\n",
       "    <tr>\n",
       "      <th>１ヶ月後予測</th>\n",
       "      <td>90</td>\n",
       "    </tr>\n",
       "    <tr>\n",
       "      <th>2ヶ月後予測</th>\n",
       "      <td>105</td>\n",
       "    </tr>\n",
       "    <tr>\n",
       "      <th>3ヶ月後予測</th>\n",
       "      <td>90</td>\n",
       "    </tr>\n",
       "  </tbody>\n",
       "</table>\n",
       "</div>"
      ],
      "text/plain": [
       "        FIM合計点数\n",
       "現在           55\n",
       "１ヶ月後予測       90\n",
       "2ヶ月後予測      105\n",
       "3ヶ月後予測       90"
      ]
     },
     "execution_count": 16,
     "metadata": {},
     "output_type": "execute_result"
    }
   ],
   "source": [
    "df_graph"
   ]
  },
  {
   "cell_type": "code",
   "execution_count": 17,
   "metadata": {},
   "outputs": [
    {
     "data": {
      "text/plain": [
       "Index(['meal', 'hygienic', 'wipingClean', 'upperBodyDressing',\n",
       "       'lowerBodyDressing', 'toiletAction', 'urinationControl',\n",
       "       'defecationControl', 'bedsChairsWheelchairs', 'toilet', 'bathtubShower',\n",
       "       'walkingWheelchair', 'stairs', 'understanding', 'expression',\n",
       "       'socialCommunication', 'problemSolving', 'memory'],\n",
       "      dtype='object')"
      ]
     },
     "execution_count": 17,
     "metadata": {},
     "output_type": "execute_result"
    }
   ],
   "source": [
    "df_score.index"
   ]
  },
  {
   "cell_type": "code",
   "execution_count": 18,
   "metadata": {},
   "outputs": [
    {
     "data": {
      "text/plain": [
       "array([[ 55],\n",
       "       [ 90],\n",
       "       [105],\n",
       "       [ 90]])"
      ]
     },
     "execution_count": 18,
     "metadata": {},
     "output_type": "execute_result"
    }
   ],
   "source": [
    "df_graph.values"
   ]
  },
  {
   "cell_type": "markdown",
   "metadata": {},
   "source": [
    "## グラフ表示"
   ]
  },
  {
   "cell_type": "code",
   "execution_count": 19,
   "metadata": {},
   "outputs": [
    {
     "ename": "NameError",
     "evalue": "name 'df' is not defined",
     "output_type": "error",
     "traceback": [
      "\u001b[0;31m---------------------------------------------------------------------------\u001b[0m",
      "\u001b[0;31mNameError\u001b[0m                                 Traceback (most recent call last)",
      "\u001b[0;32m<ipython-input-19-42866b874408>\u001b[0m in \u001b[0;36m<module>\u001b[0;34m\u001b[0m\n\u001b[1;32m      2\u001b[0m \u001b[0;32mimport\u001b[0m \u001b[0mplotly\u001b[0m\u001b[0;34m.\u001b[0m\u001b[0mfigure_factory\u001b[0m \u001b[0;32mas\u001b[0m \u001b[0mff\u001b[0m\u001b[0;34m\u001b[0m\u001b[0;34m\u001b[0m\u001b[0m\n\u001b[1;32m      3\u001b[0m \u001b[0;34m\u001b[0m\u001b[0m\n\u001b[0;32m----> 4\u001b[0;31m \u001b[0mfig\u001b[0m \u001b[0;34m=\u001b[0m \u001b[0mpx\u001b[0m\u001b[0;34m.\u001b[0m\u001b[0mline\u001b[0m\u001b[0;34m(\u001b[0m\u001b[0mdf_graph\u001b[0m\u001b[0;34m,\u001b[0m\u001b[0mx\u001b[0m\u001b[0;34m=\u001b[0m\u001b[0mdf_graph\u001b[0m\u001b[0;34m.\u001b[0m\u001b[0mindex\u001b[0m\u001b[0;34m,\u001b[0m \u001b[0my\u001b[0m\u001b[0;34m=\u001b[0m\u001b[0;34m\"FIM合計点数\"\u001b[0m\u001b[0;34m,\u001b[0m  \u001b[0mtitle\u001b[0m\u001b[0;34m=\u001b[0m\u001b[0;34m'FIM予測'\u001b[0m\u001b[0;34m,\u001b[0m \u001b[0mhover_name\u001b[0m\u001b[0;34m=\u001b[0m\u001b[0mdf\u001b[0m\u001b[0;34m.\u001b[0m\u001b[0mindex\u001b[0m\u001b[0;34m,\u001b[0m \u001b[0;34m)\u001b[0m\u001b[0;34m\u001b[0m\u001b[0;34m\u001b[0m\u001b[0m\n\u001b[0m\u001b[1;32m      5\u001b[0m \u001b[0mfig\u001b[0m\u001b[0;34m.\u001b[0m\u001b[0mshow\u001b[0m\u001b[0;34m(\u001b[0m\u001b[0;34m)\u001b[0m\u001b[0;34m\u001b[0m\u001b[0;34m\u001b[0m\u001b[0m\n",
      "\u001b[0;31mNameError\u001b[0m: name 'df' is not defined"
     ]
    }
   ],
   "source": [
    "import plotly.express as px\n",
    "import plotly.figure_factory as ff\n",
    "\n",
    "fig = px.line(df_graph,x=df_graph.index, y=\"FIM合計点数\",  title='FIM予測', hover_name=df.index, )\n",
    "fig.show()"
   ]
  },
  {
   "cell_type": "code",
   "execution_count": 22,
   "metadata": {},
   "outputs": [
    {
     "name": "stdout",
     "output_type": "stream",
     "text": [
      "Help on package plotly.figure_factory in plotly:\n",
      "\n",
      "NAME\n",
      "    plotly.figure_factory\n",
      "\n",
      "PACKAGE CONTENTS\n",
      "    _2d_density\n",
      "    _annotated_heatmap\n",
      "    _bullet\n",
      "    _candlestick\n",
      "    _county_choropleth\n",
      "    _dendrogram\n",
      "    _distplot\n",
      "    _facet_grid\n",
      "    _gantt\n",
      "    _ohlc\n",
      "    _quiver\n",
      "    _scatterplot\n",
      "    _streamline\n",
      "    _table\n",
      "    _ternary_contour\n",
      "    _trisurf\n",
      "    _violin\n",
      "    utils\n",
      "\n",
      "FUNCTIONS\n",
      "    create_2d_density(x, y, colorscale='Earth', ncontours=20, hist_color=(0, 0, 0.5), point_color=(0, 0, 0.5), point_size=2, title='2D Density Plot', height=600, width=600)\n",
      "        **deprecated**, use instead\n",
      "        :func:`plotly.express.density_heatmap`.\n",
      "        \n",
      "        :param (list|array) x: x-axis data for plot generation\n",
      "        :param (list|array) y: y-axis data for plot generation\n",
      "        :param (str|tuple|list) colorscale: either a plotly scale name, an rgb\n",
      "            or hex color, a color tuple or a list or tuple of colors. An rgb\n",
      "            color is of the form 'rgb(x, y, z)' where x, y, z belong to the\n",
      "            interval [0, 255] and a color tuple is a tuple of the form\n",
      "            (a, b, c) where a, b and c belong to [0, 1]. If colormap is a\n",
      "            list, it must contain the valid color types aforementioned as its\n",
      "            members.\n",
      "        :param (int) ncontours: the number of 2D contours to draw on the plot\n",
      "        :param (str) hist_color: the color of the plotted histograms\n",
      "        :param (str) point_color: the color of the scatter points\n",
      "        :param (str) point_size: the color of the scatter points\n",
      "        :param (str) title: set the title for the plot\n",
      "        :param (float) height: the height of the chart\n",
      "        :param (float) width: the width of the chart\n",
      "        \n",
      "        Examples\n",
      "        --------\n",
      "        \n",
      "        Example 1: Simple 2D Density Plot\n",
      "        \n",
      "        >>> from plotly.figure_factory import create_2d_density\n",
      "        >>> import numpy as np\n",
      "        \n",
      "        >>> # Make data points\n",
      "        >>> t = np.linspace(-1,1.2,2000)\n",
      "        >>> x = (t**3)+(0.3*np.random.randn(2000))\n",
      "        >>> y = (t**6)+(0.3*np.random.randn(2000))\n",
      "        \n",
      "        >>> # Create a figure\n",
      "        >>> fig = create_2d_density(x, y)\n",
      "        \n",
      "        >>> # Plot the data\n",
      "        >>> fig.show()\n",
      "        \n",
      "        Example 2: Using Parameters\n",
      "        \n",
      "        >>> from plotly.figure_factory import create_2d_density\n",
      "        \n",
      "        >>> import numpy as np\n",
      "        \n",
      "        >>> # Make data points\n",
      "        >>> t = np.linspace(-1,1.2,2000)\n",
      "        >>> x = (t**3)+(0.3*np.random.randn(2000))\n",
      "        >>> y = (t**6)+(0.3*np.random.randn(2000))\n",
      "        \n",
      "        >>> # Create custom colorscale\n",
      "        >>> colorscale = ['#7A4579', '#D56073', 'rgb(236,158,105)',\n",
      "        ...              (1, 1, 0.2), (0.98,0.98,0.98)]\n",
      "        \n",
      "        >>> # Create a figure\n",
      "        >>> fig = create_2d_density(x, y, colorscale=colorscale,\n",
      "        ...       hist_color='rgb(255, 237, 222)', point_size=3)\n",
      "        \n",
      "        >>> # Plot the data\n",
      "        >>> fig.show()\n",
      "    \n",
      "    create_annotated_heatmap(z, x=None, y=None, annotation_text=None, colorscale='Plasma', font_colors=None, showscale=False, reversescale=False, **kwargs)\n",
      "        Function that creates annotated heatmaps\n",
      "        \n",
      "        This function adds annotations to each cell of the heatmap.\n",
      "        \n",
      "        :param (list[list]|ndarray) z: z matrix to create heatmap.\n",
      "        :param (list) x: x axis labels.\n",
      "        :param (list) y: y axis labels.\n",
      "        :param (list[list]|ndarray) annotation_text: Text strings for\n",
      "            annotations. Should have the same dimensions as the z matrix. If no\n",
      "            text is added, the values of the z matrix are annotated. Default =\n",
      "            z matrix values.\n",
      "        :param (list|str) colorscale: heatmap colorscale.\n",
      "        :param (list) font_colors: List of two color strings: [min_text_color,\n",
      "            max_text_color] where min_text_color is applied to annotations for\n",
      "            heatmap values < (max_value - min_value)/2. If font_colors is not\n",
      "            defined, the colors are defined logically as black or white\n",
      "            depending on the heatmap's colorscale.\n",
      "        :param (bool) showscale: Display colorscale. Default = False\n",
      "        :param (bool) reversescale: Reverse colorscale. Default = False\n",
      "        :param kwargs: kwargs passed through plotly.graph_objs.Heatmap.\n",
      "            These kwargs describe other attributes about the annotated Heatmap\n",
      "            trace such as the colorscale. For more information on valid kwargs\n",
      "            call help(plotly.graph_objs.Heatmap)\n",
      "        \n",
      "        Example 1: Simple annotated heatmap with default configuration\n",
      "        \n",
      "        >>> import plotly.figure_factory as ff\n",
      "        \n",
      "        >>> z = [[0.300000, 0.00000, 0.65, 0.300000],\n",
      "        ...      [1, 0.100005, 0.45, 0.4300],\n",
      "        ...      [0.300000, 0.00000, 0.65, 0.300000],\n",
      "        ...      [1, 0.100005, 0.45, 0.00000]]\n",
      "        \n",
      "        >>> fig = ff.create_annotated_heatmap(z)\n",
      "        >>> fig.show()\n",
      "    \n",
      "    create_bullet(data, markers=None, measures=None, ranges=None, subtitles=None, titles=None, orientation='h', range_colors=('rgb(200, 200, 200)', 'rgb(245, 245, 245)'), measure_colors=('rgb(31, 119, 180)', 'rgb(176, 196, 221)'), horizontal_spacing=None, vertical_spacing=None, scatter_options={}, **layout_options)\n",
      "        **deprecated**, use instead the plotly.graph_objects trace\n",
      "        :class:`plotly.graph_objects.Indicator`.\n",
      "        \n",
      "        :param (pd.DataFrame | list | tuple) data: either a list/tuple of\n",
      "            dictionaries or a pandas DataFrame.\n",
      "        :param (str) markers: the column name or dictionary key for the markers in\n",
      "            each subplot.\n",
      "        :param (str) measures: the column name or dictionary key for the measure\n",
      "            bars in each subplot. This bar usually represents the quantitative\n",
      "            measure of performance, usually a list of two values [a, b] and are\n",
      "            the blue bars in the foreground of each subplot by default.\n",
      "        :param (str) ranges: the column name or dictionary key for the qualitative\n",
      "            ranges of performance, usually a 3-item list [bad, okay, good]. They\n",
      "            correspond to the grey bars in the background of each chart.\n",
      "        :param (str) subtitles: the column name or dictionary key for the subtitle\n",
      "            of each subplot chart. The subplots are displayed right underneath\n",
      "            each title.\n",
      "        :param (str) titles: the column name or dictionary key for the main label\n",
      "            of each subplot chart.\n",
      "        :param (bool) orientation: if 'h', the bars are placed horizontally as\n",
      "            rows. If 'v' the bars are placed vertically in the chart.\n",
      "        :param (list) range_colors: a tuple of two colors between which all\n",
      "            the rectangles for the range are drawn. These rectangles are meant to\n",
      "            be qualitative indicators against which the marker and measure bars\n",
      "            are compared.\n",
      "            Default=('rgb(200, 200, 200)', 'rgb(245, 245, 245)')\n",
      "        :param (list) measure_colors: a tuple of two colors which is used to color\n",
      "            the thin quantitative bars in the bullet chart.\n",
      "            Default=('rgb(31, 119, 180)', 'rgb(176, 196, 221)')\n",
      "        :param (float) horizontal_spacing: see the 'horizontal_spacing' param in\n",
      "            plotly.tools.make_subplots. Ranges between 0 and 1.\n",
      "        :param (float) vertical_spacing: see the 'vertical_spacing' param in\n",
      "            plotly.tools.make_subplots. Ranges between 0 and 1.\n",
      "        :param (dict) scatter_options: describes attributes for the scatter trace\n",
      "            in each subplot such as name and marker size. Call\n",
      "            help(plotly.graph_objs.Scatter) for more information on valid params.\n",
      "        :param layout_options: describes attributes for the layout of the figure\n",
      "            such as title, height and width. Call help(plotly.graph_objs.Layout)\n",
      "            for more information on valid params.\n",
      "        \n",
      "        Example 1: Use a Dictionary\n",
      "        \n",
      "        >>> import plotly.figure_factory as ff\n",
      "        \n",
      "        >>> data = [\n",
      "        ...   {\"label\": \"revenue\", \"sublabel\": \"us$, in thousands\",\n",
      "        ...    \"range\": [150, 225, 300], \"performance\": [220,270], \"point\": [250]},\n",
      "        ...   {\"label\": \"Profit\", \"sublabel\": \"%\", \"range\": [20, 25, 30],\n",
      "        ...    \"performance\": [21, 23], \"point\": [26]},\n",
      "        ...   {\"label\": \"Order Size\", \"sublabel\":\"US$, average\",\"range\": [350, 500, 600],\n",
      "        ...    \"performance\": [100,320],\"point\": [550]},\n",
      "        ...   {\"label\": \"New Customers\", \"sublabel\": \"count\", \"range\": [1400, 2000, 2500],\n",
      "        ...    \"performance\": [1000, 1650],\"point\": [2100]},\n",
      "        ...   {\"label\": \"Satisfaction\", \"sublabel\": \"out of 5\",\"range\": [3.5, 4.25, 5],\n",
      "        ...    \"performance\": [3.2, 4.7], \"point\": [4.4]}\n",
      "        ... ]\n",
      "        \n",
      "        >>> fig = ff.create_bullet(\n",
      "        ...     data, titles='label', subtitles='sublabel', markers='point',\n",
      "        ...     measures='performance', ranges='range', orientation='h',\n",
      "        ...     title='my simple bullet chart'\n",
      "        ... )\n",
      "        >>> fig.show()\n",
      "        \n",
      "        Example 2: Use a DataFrame with Custom Colors\n",
      "        \n",
      "        >>> import plotly.figure_factory as ff\n",
      "        >>> import pandas as pd\n",
      "        >>> data = pd.read_json('https://cdn.rawgit.com/plotly/datasets/master/BulletData.json')\n",
      "        \n",
      "        >>> fig = ff.create_bullet(\n",
      "        ...     data, titles='title', markers='markers', measures='measures',\n",
      "        ...     orientation='v', measure_colors=['rgb(14, 52, 75)', 'rgb(31, 141, 127)'],\n",
      "        ...     scatter_options={'marker': {'symbol': 'circle'}}, width=700)\n",
      "        >>> fig.show()\n",
      "    \n",
      "    create_candlestick(open, high, low, close, dates=None, direction='both', **kwargs)\n",
      "        **deprecated**, use instead the plotly.graph_objects trace \n",
      "        :class:`plotly.graph_objects.Candlestick`\n",
      "        \n",
      "        :param (list) open: opening values\n",
      "        :param (list) high: high values\n",
      "        :param (list) low: low values\n",
      "        :param (list) close: closing values\n",
      "        :param (list) dates: list of datetime objects. Default: None\n",
      "        :param (string) direction: direction can be 'increasing', 'decreasing',\n",
      "            or 'both'. When the direction is 'increasing', the returned figure\n",
      "            consists of all candlesticks where the close value is greater than\n",
      "            the corresponding open value, and when the direction is\n",
      "            'decreasing', the returned figure consists of all candlesticks\n",
      "            where the close value is less than or equal to the corresponding\n",
      "            open value. When the direction is 'both', both increasing and\n",
      "            decreasing candlesticks are returned. Default: 'both'\n",
      "        :param kwargs: kwargs passed through plotly.graph_objs.Scatter.\n",
      "            These kwargs describe other attributes about the ohlc Scatter trace\n",
      "            such as the color or the legend name. For more information on valid\n",
      "            kwargs call help(plotly.graph_objs.Scatter)\n",
      "        \n",
      "        :rtype (dict): returns a representation of candlestick chart figure.\n",
      "        \n",
      "        Example 1: Simple candlestick chart from a Pandas DataFrame\n",
      "        \n",
      "        >>> from plotly.figure_factory import create_candlestick\n",
      "        >>> from datetime import datetime\n",
      "        >>> import pandas as pd\n",
      "        \n",
      "        >>> df = pd.read_csv('https://raw.githubusercontent.com/plotly/datasets/master/finance-charts-apple.csv')\n",
      "        >>> fig = create_candlestick(df['AAPL.Open'], df['AAPL.High'], df['AAPL.Low'], df['AAPL.Close'],\n",
      "        ...                          dates=df.index)\n",
      "        >>> fig.show()\n",
      "        \n",
      "        Example 2: Customize the candlestick colors\n",
      "        \n",
      "        >>> from plotly.figure_factory import create_candlestick\n",
      "        >>> from plotly.graph_objs import Line, Marker\n",
      "        >>> from datetime import datetime\n",
      "        \n",
      "        >>> import pandas as pd\n",
      "        >>> df = pd.read_csv('https://raw.githubusercontent.com/plotly/datasets/master/finance-charts-apple.csv')\n",
      "        \n",
      "        >>> # Make increasing candlesticks and customize their color and name\n",
      "        >>> fig_increasing = create_candlestick(df['AAPL.Open'], df['AAPL.High'], df['AAPL.Low'], df['AAPL.Close'],\n",
      "        ...     dates=df.index,\n",
      "        ...     direction='increasing', name='AAPL',\n",
      "        ...     marker=Marker(color='rgb(150, 200, 250)'),\n",
      "        ...     line=Line(color='rgb(150, 200, 250)'))\n",
      "        \n",
      "        >>> # Make decreasing candlesticks and customize their color and name\n",
      "        >>> fig_decreasing = create_candlestick(df['AAPL.Open'], df['AAPL.High'], df['AAPL.Low'], df['AAPL.Close'],\n",
      "        ...     dates=df.index,\n",
      "        ...     direction='decreasing',\n",
      "        ...     marker=Marker(color='rgb(128, 128, 128)'),\n",
      "        ...     line=Line(color='rgb(128, 128, 128)'))\n",
      "        \n",
      "        >>> # Initialize the figure\n",
      "        >>> fig = fig_increasing\n",
      "        \n",
      "        >>> # Add decreasing data with .extend()\n",
      "        >>> fig.add_trace(fig_decreasing['data']) # doctest: +SKIP\n",
      "        >>> fig.show()\n",
      "        \n",
      "        Example 3: Candlestick chart with datetime objects\n",
      "        \n",
      "        >>> from plotly.figure_factory import create_candlestick\n",
      "        \n",
      "        >>> from datetime import datetime\n",
      "        \n",
      "        >>> # Add data\n",
      "        >>> open_data = [33.0, 33.3, 33.5, 33.0, 34.1]\n",
      "        >>> high_data = [33.1, 33.3, 33.6, 33.2, 34.8]\n",
      "        >>> low_data = [32.7, 32.7, 32.8, 32.6, 32.8]\n",
      "        >>> close_data = [33.0, 32.9, 33.3, 33.1, 33.1]\n",
      "        >>> dates = [datetime(year=2013, month=10, day=10),\n",
      "        ...          datetime(year=2013, month=11, day=10),\n",
      "        ...          datetime(year=2013, month=12, day=10),\n",
      "        ...          datetime(year=2014, month=1, day=10),\n",
      "        ...          datetime(year=2014, month=2, day=10)]\n",
      "        \n",
      "        >>> # Create ohlc\n",
      "        >>> fig = create_candlestick(open_data, high_data,\n",
      "        ...     low_data, close_data, dates=dates)\n",
      "        >>> fig.show()\n",
      "    \n",
      "    create_choropleth(fips, values, scope=['usa'], binning_endpoints=None, colorscale=None, order=None, simplify_county=0.02, simplify_state=0.02, asp=None, show_hover=True, show_state_data=True, state_outline=None, county_outline=None, centroid_marker=None, round_legend_values=False, exponent_format=False, legend_title='', **layout_options)\n",
      "        Returns figure for county choropleth. Uses data from package_data.\n",
      "        \n",
      "        :param (list) fips: list of FIPS values which correspond to the con\n",
      "            catination of state and county ids. An example is '01001'.\n",
      "        :param (list) values: list of numbers/strings which correspond to the\n",
      "            fips list. These are the values that will determine how the counties\n",
      "            are colored.\n",
      "        :param (list) scope: list of states and/or states abbreviations. Fits\n",
      "            all states in the camera tightly. Selecting ['usa'] is the equivalent\n",
      "            of appending all 50 states into your scope list. Selecting only 'usa'\n",
      "            does not include 'Alaska', 'Puerto Rico', 'American Samoa',\n",
      "            'Commonwealth of the Northern Mariana Islands', 'Guam',\n",
      "            'United States Virgin Islands'. These must be added manually to the\n",
      "            list.\n",
      "            Default = ['usa']\n",
      "        :param (list) binning_endpoints: ascending numbers which implicitly define\n",
      "            real number intervals which are used as bins. The colorscale used must\n",
      "            have the same number of colors as the number of bins and this will\n",
      "            result in a categorical colormap.\n",
      "        :param (list) colorscale: a list of colors with length equal to the\n",
      "            number of categories of colors. The length must match either all\n",
      "            unique numbers in the 'values' list or if endpoints is being used, the\n",
      "            number of categories created by the endpoints.\n",
      "        \n",
      "            For example, if binning_endpoints = [4, 6, 8], then there are 4 bins:\n",
      "            [-inf, 4), [4, 6), [6, 8), [8, inf)\n",
      "        :param (list) order: a list of the unique categories (numbers/bins) in any\n",
      "            desired order. This is helpful if you want to order string values to\n",
      "            a chosen colorscale.\n",
      "        :param (float) simplify_county: determines the simplification factor\n",
      "            for the counties. The larger the number, the fewer vertices and edges\n",
      "            each polygon has. See\n",
      "            http://toblerity.org/shapely/manual.html#object.simplify for more\n",
      "            information.\n",
      "            Default = 0.02\n",
      "        :param (float) simplify_state: simplifies the state outline polygon.\n",
      "            See http://toblerity.org/shapely/manual.html#object.simplify for more\n",
      "            information.\n",
      "            Default = 0.02\n",
      "        :param (float) asp: the width-to-height aspect ratio for the camera.\n",
      "            Default = 2.5\n",
      "        :param (bool) show_hover: show county hover and centroid info\n",
      "        :param (bool) show_state_data: reveals state boundary lines\n",
      "        :param (dict) state_outline: dict of attributes of the state outline\n",
      "            including width and color. See\n",
      "            https://plot.ly/python/reference/#scatter-marker-line for all valid\n",
      "            params\n",
      "        :param (dict) county_outline: dict of attributes of the county outline\n",
      "            including width and color. See\n",
      "            https://plot.ly/python/reference/#scatter-marker-line for all valid\n",
      "            params\n",
      "        :param (dict) centroid_marker: dict of attributes of the centroid marker.\n",
      "            The centroid markers are invisible by default and appear visible on\n",
      "            selection. See https://plot.ly/python/reference/#scatter-marker for\n",
      "            all valid params\n",
      "        :param (bool) round_legend_values: automatically round the numbers that\n",
      "            appear in the legend to the nearest integer.\n",
      "            Default = False\n",
      "        :param (bool) exponent_format: if set to True, puts numbers in the K, M,\n",
      "            B number format. For example 4000.0 becomes 4.0K\n",
      "            Default = False\n",
      "        :param (str) legend_title: title that appears above the legend\n",
      "        :param **layout_options: a **kwargs argument for all layout parameters\n",
      "        \n",
      "        \n",
      "        Example 1: Florida::\n",
      "        \n",
      "            import plotly.plotly as py\n",
      "            import plotly.figure_factory as ff\n",
      "        \n",
      "            import numpy as np\n",
      "            import pandas as pd\n",
      "        \n",
      "            df_sample = pd.read_csv(\n",
      "                'https://raw.githubusercontent.com/plotly/datasets/master/minoritymajority.csv'\n",
      "            )\n",
      "            df_sample_r = df_sample[df_sample['STNAME'] == 'Florida']\n",
      "        \n",
      "            values = df_sample_r['TOT_POP'].tolist()\n",
      "            fips = df_sample_r['FIPS'].tolist()\n",
      "        \n",
      "            binning_endpoints = list(np.mgrid[min(values):max(values):4j])\n",
      "            colorscale = [\"#030512\",\"#1d1d3b\",\"#323268\",\"#3d4b94\",\"#3e6ab0\",\n",
      "                        \"#4989bc\",\"#60a7c7\",\"#85c5d3\",\"#b7e0e4\",\"#eafcfd\"]\n",
      "            fig = ff.create_choropleth(\n",
      "                fips=fips, values=values, scope=['Florida'], show_state_data=True,\n",
      "                colorscale=colorscale, binning_endpoints=binning_endpoints,\n",
      "                round_legend_values=True, plot_bgcolor='rgb(229,229,229)',\n",
      "                paper_bgcolor='rgb(229,229,229)', legend_title='Florida Population',\n",
      "                county_outline={'color': 'rgb(255,255,255)', 'width': 0.5},\n",
      "                exponent_format=True,\n",
      "            )\n",
      "        \n",
      "        Example 2: New England::\n",
      "        \n",
      "            import plotly.figure_factory as ff\n",
      "        \n",
      "            import pandas as pd\n",
      "        \n",
      "            NE_states = ['Connecticut', 'Maine', 'Massachusetts',\n",
      "                        'New Hampshire', 'Rhode Island']\n",
      "            df_sample = pd.read_csv(\n",
      "                'https://raw.githubusercontent.com/plotly/datasets/master/minoritymajority.csv'\n",
      "            )\n",
      "            df_sample_r = df_sample[df_sample['STNAME'].isin(NE_states)]\n",
      "            colorscale = ['rgb(68.0, 1.0, 84.0)',\n",
      "            'rgb(66.0, 64.0, 134.0)',\n",
      "            'rgb(38.0, 130.0, 142.0)',\n",
      "            'rgb(63.0, 188.0, 115.0)',\n",
      "            'rgb(216.0, 226.0, 25.0)']\n",
      "        \n",
      "            values = df_sample_r['TOT_POP'].tolist()\n",
      "            fips = df_sample_r['FIPS'].tolist()\n",
      "            fig = ff.create_choropleth(\n",
      "                fips=fips, values=values, scope=NE_states, show_state_data=True\n",
      "            )\n",
      "            fig.show()\n",
      "        \n",
      "        Example 3: California and Surrounding States::\n",
      "        \n",
      "            import plotly.figure_factory as ff\n",
      "        \n",
      "            import pandas as pd\n",
      "        \n",
      "            df_sample = pd.read_csv(\n",
      "                'https://raw.githubusercontent.com/plotly/datasets/master/minoritymajority.csv'\n",
      "            )\n",
      "            df_sample_r = df_sample[df_sample['STNAME'] == 'California']\n",
      "        \n",
      "            values = df_sample_r['TOT_POP'].tolist()\n",
      "            fips = df_sample_r['FIPS'].tolist()\n",
      "        \n",
      "            colorscale = [\n",
      "                'rgb(193, 193, 193)',\n",
      "                'rgb(239,239,239)',\n",
      "                'rgb(195, 196, 222)',\n",
      "                'rgb(144,148,194)',\n",
      "                'rgb(101,104,168)',\n",
      "                'rgb(65, 53, 132)'\n",
      "            ]\n",
      "        \n",
      "            fig = ff.create_choropleth(\n",
      "                fips=fips, values=values, colorscale=colorscale,\n",
      "                scope=['CA', 'AZ', 'Nevada', 'Oregon', ' Idaho'],\n",
      "                binning_endpoints=[14348, 63983, 134827, 426762, 2081313],\n",
      "                county_outline={'color': 'rgb(255,255,255)', 'width': 0.5},\n",
      "                legend_title='California Counties',\n",
      "                title='California and Nearby States'\n",
      "            )\n",
      "            fig.show()\n",
      "        \n",
      "        Example 4: USA::\n",
      "        \n",
      "            import plotly.figure_factory as ff\n",
      "        \n",
      "            import numpy as np\n",
      "            import pandas as pd\n",
      "        \n",
      "            df_sample = pd.read_csv(\n",
      "                'https://raw.githubusercontent.com/plotly/datasets/master/laucnty16.csv'\n",
      "            )\n",
      "            df_sample['State FIPS Code'] = df_sample['State FIPS Code'].apply(\n",
      "                lambda x: str(x).zfill(2)\n",
      "            )\n",
      "            df_sample['County FIPS Code'] = df_sample['County FIPS Code'].apply(\n",
      "                lambda x: str(x).zfill(3)\n",
      "            )\n",
      "            df_sample['FIPS'] = (\n",
      "                df_sample['State FIPS Code'] + df_sample['County FIPS Code']\n",
      "            )\n",
      "        \n",
      "            binning_endpoints = list(np.linspace(1, 12, len(colorscale) - 1))\n",
      "            colorscale = [\"#f7fbff\", \"#ebf3fb\", \"#deebf7\", \"#d2e3f3\", \"#c6dbef\",\n",
      "                        \"#b3d2e9\", \"#9ecae1\", \"#85bcdb\", \"#6baed6\", \"#57a0ce\",\n",
      "                        \"#4292c6\", \"#3082be\", \"#2171b5\", \"#1361a9\", \"#08519c\",\n",
      "                        \"#0b4083\",\"#08306b\"]\n",
      "            fips = df_sample['FIPS']\n",
      "            values = df_sample['Unemployment Rate (%)']\n",
      "            fig = ff.create_choropleth(\n",
      "                fips=fips, values=values, scope=['usa'],\n",
      "                binning_endpoints=binning_endpoints, colorscale=colorscale,\n",
      "                show_hover=True, centroid_marker={'opacity': 0},\n",
      "                asp=2.9, title='USA by Unemployment %',\n",
      "                legend_title='Unemployment %'\n",
      "            )\n",
      "            fig.show()\n",
      "    \n",
      "    create_dendrogram(X, orientation='bottom', labels=None, colorscale=None, distfun=None, linkagefun=<function <lambda> at 0x1a18b257b8>, hovertext=None, color_threshold=None)\n",
      "        Function that returns a dendrogram Plotly figure object.\n",
      "        \n",
      "        See also https://dash.plot.ly/dash-bio/clustergram.\n",
      "        \n",
      "        :param (ndarray) X: Matrix of observations as array of arrays\n",
      "        :param (str) orientation: 'top', 'right', 'bottom', or 'left'\n",
      "        :param (list) labels: List of axis category labels(observation labels)\n",
      "        :param (list) colorscale: Optional colorscale for dendrogram tree\n",
      "        :param (function) distfun: Function to compute the pairwise distance from\n",
      "                                   the observations\n",
      "        :param (function) linkagefun: Function to compute the linkage matrix from\n",
      "                                   the pairwise distances\n",
      "        :param (list[list]) hovertext: List of hovertext for constituent traces of dendrogram\n",
      "                                   clusters\n",
      "        :param (double) color_threshold: Value at which the separation of clusters will be made\n",
      "        \n",
      "        Example 1: Simple bottom oriented dendrogram\n",
      "        \n",
      "        >>> from plotly.figure_factory import create_dendrogram\n",
      "        \n",
      "        >>> import numpy as np\n",
      "        \n",
      "        >>> X = np.random.rand(10,10)\n",
      "        >>> fig = create_dendrogram(X)\n",
      "        >>> fig.show()\n",
      "        \n",
      "        Example 2: Dendrogram to put on the left of the heatmap\n",
      "        \n",
      "        >>> from plotly.figure_factory import create_dendrogram\n",
      "        \n",
      "        >>> import numpy as np\n",
      "        \n",
      "        >>> X = np.random.rand(5,5)\n",
      "        >>> names = ['Jack', 'Oxana', 'John', 'Chelsea', 'Mark']\n",
      "        >>> dendro = create_dendrogram(X, orientation='right', labels=names)\n",
      "        >>> dendro.update_layout({'width':700, 'height':500}) # doctest: +SKIP\n",
      "        >>> dendro.show()\n",
      "        \n",
      "        Example 3: Dendrogram with Pandas\n",
      "        \n",
      "        >>> from plotly.figure_factory import create_dendrogram\n",
      "        \n",
      "        >>> import numpy as np\n",
      "        >>> import pandas as pd\n",
      "        \n",
      "        >>> Index= ['A','B','C','D','E','F','G','H','I','J']\n",
      "        >>> df = pd.DataFrame(abs(np.random.randn(10, 10)), index=Index)\n",
      "        >>> fig = create_dendrogram(df, labels=Index)\n",
      "        >>> fig.show()\n",
      "    \n",
      "    create_distplot(hist_data, group_labels, bin_size=1.0, curve_type='kde', colors=None, rug_text=None, histnorm='probability density', show_hist=True, show_curve=True, show_rug=True)\n",
      "        Function that creates a distplot similar to seaborn.distplot;\n",
      "        **this function is deprecated**, use instead :mod:`plotly.express`\n",
      "        functions, for example\n",
      "        \n",
      "        >>> import plotly.express as px\n",
      "        >>> tips = px.data.tips()\n",
      "        >>> fig = px.histogram(tips, x=\"total_bill\", y=\"tip\", color=\"sex\", marginal=\"rug\",\n",
      "        ...                    hover_data=tips.columns)\n",
      "        >>> fig.show()\n",
      "        \n",
      "        \n",
      "        The distplot can be composed of all or any combination of the following\n",
      "        3 components: (1) histogram, (2) curve: (a) kernel density estimation\n",
      "        or (b) normal curve, and (3) rug plot. Additionally, multiple distplots\n",
      "        (from multiple datasets) can be created in the same plot.\n",
      "        \n",
      "        :param (list[list]) hist_data: Use list of lists to plot multiple data\n",
      "            sets on the same plot.\n",
      "        :param (list[str]) group_labels: Names for each data set.\n",
      "        :param (list[float]|float) bin_size: Size of histogram bins.\n",
      "            Default = 1.\n",
      "        :param (str) curve_type: 'kde' or 'normal'. Default = 'kde'\n",
      "        :param (str) histnorm: 'probability density' or 'probability'\n",
      "            Default = 'probability density'\n",
      "        :param (bool) show_hist: Add histogram to distplot? Default = True\n",
      "        :param (bool) show_curve: Add curve to distplot? Default = True\n",
      "        :param (bool) show_rug: Add rug to distplot? Default = True\n",
      "        :param (list[str]) colors: Colors for traces.\n",
      "        :param (list[list]) rug_text: Hovertext values for rug_plot,\n",
      "        :return (dict): Representation of a distplot figure.\n",
      "        \n",
      "        Example 1: Simple distplot of 1 data set\n",
      "        \n",
      "        >>> from plotly.figure_factory import create_distplot\n",
      "        \n",
      "        >>> hist_data = [[1.1, 1.1, 2.5, 3.0, 3.5,\n",
      "        ...               3.5, 4.1, 4.4, 4.5, 4.5,\n",
      "        ...               5.0, 5.0, 5.2, 5.5, 5.5,\n",
      "        ...               5.5, 5.5, 5.5, 6.1, 7.0]]\n",
      "        >>> group_labels = ['distplot example']\n",
      "        >>> fig = create_distplot(hist_data, group_labels)\n",
      "        >>> fig.show()\n",
      "        \n",
      "        \n",
      "        Example 2: Two data sets and added rug text\n",
      "        \n",
      "        >>> from plotly.figure_factory import create_distplot\n",
      "        >>> # Add histogram data\n",
      "        >>> hist1_x = [0.8, 1.2, 0.2, 0.6, 1.6,\n",
      "        ...            -0.9, -0.07, 1.95, 0.9, -0.2,\n",
      "        ...            -0.5, 0.3, 0.4, -0.37, 0.6]\n",
      "        >>> hist2_x = [0.8, 1.5, 1.5, 0.6, 0.59,\n",
      "        ...            1.0, 0.8, 1.7, 0.5, 0.8,\n",
      "        ...            -0.3, 1.2, 0.56, 0.3, 2.2]\n",
      "        \n",
      "        >>> # Group data together\n",
      "        >>> hist_data = [hist1_x, hist2_x]\n",
      "        \n",
      "        >>> group_labels = ['2012', '2013']\n",
      "        \n",
      "        >>> # Add text\n",
      "        >>> rug_text_1 = ['a1', 'b1', 'c1', 'd1', 'e1',\n",
      "        ...       'f1', 'g1', 'h1', 'i1', 'j1',\n",
      "        ...       'k1', 'l1', 'm1', 'n1', 'o1']\n",
      "        \n",
      "        >>> rug_text_2 = ['a2', 'b2', 'c2', 'd2', 'e2',\n",
      "        ...       'f2', 'g2', 'h2', 'i2', 'j2',\n",
      "        ...       'k2', 'l2', 'm2', 'n2', 'o2']\n",
      "        \n",
      "        >>> # Group text together\n",
      "        >>> rug_text_all = [rug_text_1, rug_text_2]\n",
      "        \n",
      "        >>> # Create distplot\n",
      "        >>> fig = create_distplot(\n",
      "        ...     hist_data, group_labels, rug_text=rug_text_all, bin_size=.2)\n",
      "        \n",
      "        >>> # Add title\n",
      "        >>> fig.update_layout(title='Dist Plot') # doctest: +SKIP\n",
      "        >>> fig.show()\n",
      "        \n",
      "        \n",
      "        Example 3: Plot with normal curve and hide rug plot\n",
      "        \n",
      "        >>> from plotly.figure_factory import create_distplot\n",
      "        >>> import numpy as np\n",
      "        \n",
      "        >>> x1 = np.random.randn(190)\n",
      "        >>> x2 = np.random.randn(200)+1\n",
      "        >>> x3 = np.random.randn(200)-1\n",
      "        >>> x4 = np.random.randn(210)+2\n",
      "        \n",
      "        >>> hist_data = [x1, x2, x3, x4]\n",
      "        >>> group_labels = ['2012', '2013', '2014', '2015']\n",
      "        \n",
      "        >>> fig = create_distplot(\n",
      "        ...     hist_data, group_labels, curve_type='normal',\n",
      "        ...     show_rug=False, bin_size=.4)\n",
      "        \n",
      "        \n",
      "        Example 4: Distplot with Pandas\n",
      "        \n",
      "        >>> from plotly.figure_factory import create_distplot\n",
      "        >>> import numpy as np\n",
      "        >>> import pandas as pd\n",
      "        \n",
      "        >>> df = pd.DataFrame({'2012': np.random.randn(200),\n",
      "        ...                    '2013': np.random.randn(200)+1})\n",
      "        >>> fig = create_distplot([df[c] for c in df.columns], df.columns)\n",
      "        >>> fig.show()\n",
      "    \n",
      "    create_facet_grid(df, x=None, y=None, facet_row=None, facet_col=None, color_name=None, colormap=None, color_is_cat=False, facet_row_labels=None, facet_col_labels=None, height=None, width=None, trace_type='scatter', scales='fixed', dtick_x=None, dtick_y=None, show_boxes=True, ggplot2=False, binsize=1, **kwargs)\n",
      "        Returns figure for facet grid; **this function is deprecated**, since\n",
      "        plotly.express functions should be used instead, for example\n",
      "        \n",
      "        >>> import plotly.express as px\n",
      "        >>> tips = px.data.tips()\n",
      "        >>> fig = px.scatter(tips, \n",
      "        ...     x='total_bill',\n",
      "        ...     y='tip',\n",
      "        ...     facet_row='sex',\n",
      "        ...     facet_col='smoker',\n",
      "        ...     color='size')\n",
      "        \n",
      "        \n",
      "        :param (pd.DataFrame) df: the dataframe of columns for the facet grid.\n",
      "        :param (str) x: the name of the dataframe column for the x axis data.\n",
      "        :param (str) y: the name of the dataframe column for the y axis data.\n",
      "        :param (str) facet_row: the name of the dataframe column that is used to\n",
      "            facet the grid into row panels.\n",
      "        :param (str) facet_col: the name of the dataframe column that is used to\n",
      "            facet the grid into column panels.\n",
      "        :param (str) color_name: the name of your dataframe column that will\n",
      "            function as the colormap variable.\n",
      "        :param (str|list|dict) colormap: the param that determines how the\n",
      "            color_name column colors the data. If the dataframe contains numeric\n",
      "            data, then a dictionary of colors will group the data categorically\n",
      "            while a Plotly Colorscale name or a custom colorscale will treat it\n",
      "            numerically. To learn more about colors and types of colormap, run\n",
      "            `help(plotly.colors)`.\n",
      "        :param (bool) color_is_cat: determines whether a numerical column for the\n",
      "            colormap will be treated as categorical (True) or sequential (False).\n",
      "                Default = False.\n",
      "        :param (str|dict) facet_row_labels: set to either 'name' or a dictionary\n",
      "            of all the unique values in the faceting row mapped to some text to\n",
      "            show up in the label annotations. If None, labeling works like usual.\n",
      "        :param (str|dict) facet_col_labels: set to either 'name' or a dictionary\n",
      "            of all the values in the faceting row mapped to some text to show up\n",
      "            in the label annotations. If None, labeling works like usual.\n",
      "        :param (int) height: the height of the facet grid figure.\n",
      "        :param (int) width: the width of the facet grid figure.\n",
      "        :param (str) trace_type: decides the type of plot to appear in the\n",
      "            facet grid. The options are 'scatter', 'scattergl', 'histogram',\n",
      "            'bar', and 'box'.\n",
      "            Default = 'scatter'.\n",
      "        :param (str) scales: determines if axes have fixed ranges or not. Valid\n",
      "            settings are 'fixed' (all axes fixed), 'free_x' (x axis free only),\n",
      "            'free_y' (y axis free only) or 'free' (both axes free).\n",
      "        :param (float) dtick_x: determines the distance between each tick on the\n",
      "            x-axis. Default is None which means dtick_x is set automatically.\n",
      "        :param (float) dtick_y: determines the distance between each tick on the\n",
      "            y-axis. Default is None which means dtick_y is set automatically.\n",
      "        :param (bool) show_boxes: draws grey boxes behind the facet titles.\n",
      "        :param (bool) ggplot2: draws the facet grid in the style of `ggplot2`. See\n",
      "            http://ggplot2.tidyverse.org/reference/facet_grid.html for reference.\n",
      "            Default = False\n",
      "        :param (int) binsize: groups all data into bins of a given length.\n",
      "        :param (dict) kwargs: a dictionary of scatterplot arguments.\n",
      "        \n",
      "        Examples 1: One Way Faceting\n",
      "        \n",
      "        >>> import plotly.figure_factory as ff\n",
      "        >>> import pandas as pd\n",
      "        >>> mpg = pd.read_table('https://raw.githubusercontent.com/plotly/datasets/master/mpg_2017.txt')\n",
      "        \n",
      "        >>> fig = ff.create_facet_grid(\n",
      "        ...     mpg,\n",
      "        ...     x='displ',\n",
      "        ...     y='cty',\n",
      "        ...     facet_col='cyl',\n",
      "        ... )\n",
      "        >>> fig.show()\n",
      "        \n",
      "        Example 2: Two Way Faceting\n",
      "        \n",
      "        >>> import plotly.figure_factory as ff\n",
      "        \n",
      "        >>> import pandas as pd\n",
      "        \n",
      "        >>> mpg = pd.read_table('https://raw.githubusercontent.com/plotly/datasets/master/mpg_2017.txt')\n",
      "        \n",
      "        >>> fig = ff.create_facet_grid(\n",
      "        ...     mpg,\n",
      "        ...     x='displ',\n",
      "        ...     y='cty',\n",
      "        ...     facet_row='drv',\n",
      "        ...     facet_col='cyl',\n",
      "        ... )\n",
      "        >>> fig.show()\n",
      "        \n",
      "        Example 3: Categorical Coloring\n",
      "        \n",
      "        >>> import plotly.figure_factory as ff\n",
      "        >>> import pandas as pd\n",
      "        >>> mtcars = pd.read_csv('https://raw.githubusercontent.com/plotly/datasets/master/mtcars.csv')\n",
      "        >>> mtcars.cyl = mtcars.cyl.astype(str)\n",
      "        >>> fig = ff.create_facet_grid(\n",
      "        ...     mtcars,\n",
      "        ...     x='mpg',\n",
      "        ...     y='wt',\n",
      "        ...     facet_col='cyl',\n",
      "        ...     color_name='cyl',\n",
      "        ...     color_is_cat=True,\n",
      "        ... )\n",
      "        >>> fig.show()\n",
      "    \n",
      "    create_gantt(df, colors=None, index_col=None, show_colorbar=False, reverse_colors=False, title='Gantt Chart', bar_width=0.2, showgrid_x=False, showgrid_y=False, height=600, width=None, tasks=None, task_names=None, data=None, group_tasks=False, show_hover_fill=True)\n",
      "        Returns figure for a gantt chart\n",
      "        \n",
      "        :param (array|list) df: input data for gantt chart. Must be either a\n",
      "            a dataframe or a list. If dataframe, the columns must include\n",
      "            'Task', 'Start' and 'Finish'. Other columns can be included and\n",
      "            used for indexing. If a list, its elements must be dictionaries\n",
      "            with the same required column headers: 'Task', 'Start' and\n",
      "            'Finish'.\n",
      "        :param (str|list|dict|tuple) colors: either a plotly scale name, an\n",
      "            rgb or hex color, a color tuple or a list of colors. An rgb color\n",
      "            is of the form 'rgb(x, y, z)' where x, y, z belong to the interval\n",
      "            [0, 255] and a color tuple is a tuple of the form (a, b, c) where\n",
      "            a, b and c belong to [0, 1]. If colors is a list, it must\n",
      "            contain the valid color types aforementioned as its members.\n",
      "            If a dictionary, all values of the indexing column must be keys in\n",
      "            colors.\n",
      "        :param (str|float) index_col: the column header (if df is a data\n",
      "            frame) that will function as the indexing column. If df is a list,\n",
      "            index_col must be one of the keys in all the items of df.\n",
      "        :param (bool) show_colorbar: determines if colorbar will be visible.\n",
      "            Only applies if values in the index column are numeric.\n",
      "        :param (bool) show_hover_fill: enables/disables the hovertext for the\n",
      "            filled area of the chart.\n",
      "        :param (bool) reverse_colors: reverses the order of selected colors\n",
      "        :param (str) title: the title of the chart\n",
      "        :param (float) bar_width: the width of the horizontal bars in the plot\n",
      "        :param (bool) showgrid_x: show/hide the x-axis grid\n",
      "        :param (bool) showgrid_y: show/hide the y-axis grid\n",
      "        :param (float) height: the height of the chart\n",
      "        :param (float) width: the width of the chart\n",
      "        \n",
      "        Example 1: Simple Gantt Chart\n",
      "        \n",
      "        >>> from plotly.figure_factory import create_gantt\n",
      "        \n",
      "        >>> # Make data for chart\n",
      "        >>> df = [dict(Task=\"Job A\", Start='2009-01-01', Finish='2009-02-30'),\n",
      "        ...       dict(Task=\"Job B\", Start='2009-03-05', Finish='2009-04-15'),\n",
      "        ...       dict(Task=\"Job C\", Start='2009-02-20', Finish='2009-05-30')]\n",
      "        \n",
      "        >>> # Create a figure\n",
      "        >>> fig = create_gantt(df)\n",
      "        >>> fig.show()\n",
      "        \n",
      "        \n",
      "        Example 2: Index by Column with Numerical Entries\n",
      "        \n",
      "        >>> from plotly.figure_factory import create_gantt\n",
      "        \n",
      "        >>> # Make data for chart\n",
      "        >>> df = [dict(Task=\"Job A\", Start='2009-01-01',\n",
      "        ...            Finish='2009-02-30', Complete=10),\n",
      "        ...       dict(Task=\"Job B\", Start='2009-03-05',\n",
      "        ...            Finish='2009-04-15', Complete=60),\n",
      "        ...       dict(Task=\"Job C\", Start='2009-02-20',\n",
      "        ...            Finish='2009-05-30', Complete=95)]\n",
      "        \n",
      "        >>> # Create a figure with Plotly colorscale\n",
      "        >>> fig = create_gantt(df, colors='Blues', index_col='Complete',\n",
      "        ...                    show_colorbar=True, bar_width=0.5,\n",
      "        ...                    showgrid_x=True, showgrid_y=True)\n",
      "        >>> fig.show()\n",
      "        \n",
      "        \n",
      "        Example 3: Index by Column with String Entries\n",
      "        \n",
      "        >>> from plotly.figure_factory import create_gantt\n",
      "        \n",
      "        >>> # Make data for chart\n",
      "        >>> df = [dict(Task=\"Job A\", Start='2009-01-01',\n",
      "        ...            Finish='2009-02-30', Resource='Apple'),\n",
      "        ...       dict(Task=\"Job B\", Start='2009-03-05',\n",
      "        ...            Finish='2009-04-15', Resource='Grape'),\n",
      "        ...       dict(Task=\"Job C\", Start='2009-02-20',\n",
      "        ...            Finish='2009-05-30', Resource='Banana')]\n",
      "        \n",
      "        >>> # Create a figure with Plotly colorscale\n",
      "        >>> fig = create_gantt(df, colors=['rgb(200, 50, 25)', (1, 0, 1), '#6c4774'],\n",
      "        ...                    index_col='Resource', reverse_colors=True,\n",
      "        ...                    show_colorbar=True)\n",
      "        >>> fig.show()\n",
      "        \n",
      "        \n",
      "        Example 4: Use a dictionary for colors\n",
      "        \n",
      "        >>> from plotly.figure_factory import create_gantt\n",
      "        >>> # Make data for chart\n",
      "        >>> df = [dict(Task=\"Job A\", Start='2009-01-01',\n",
      "        ...            Finish='2009-02-30', Resource='Apple'),\n",
      "        ...       dict(Task=\"Job B\", Start='2009-03-05',\n",
      "        ...            Finish='2009-04-15', Resource='Grape'),\n",
      "        ...       dict(Task=\"Job C\", Start='2009-02-20',\n",
      "        ...            Finish='2009-05-30', Resource='Banana')]\n",
      "        \n",
      "        >>> # Make a dictionary of colors\n",
      "        >>> colors = {'Apple': 'rgb(255, 0, 0)',\n",
      "        ...           'Grape': 'rgb(170, 14, 200)',\n",
      "        ...           'Banana': (1, 1, 0.2)}\n",
      "        \n",
      "        >>> # Create a figure with Plotly colorscale\n",
      "        >>> fig = create_gantt(df, colors=colors, index_col='Resource',\n",
      "        ...                    show_colorbar=True)\n",
      "        \n",
      "        >>> fig.show()\n",
      "        \n",
      "        Example 5: Use a pandas dataframe\n",
      "        \n",
      "        >>> from plotly.figure_factory import create_gantt\n",
      "        >>> import pandas as pd\n",
      "        \n",
      "        >>> # Make data as a dataframe\n",
      "        >>> df = pd.DataFrame([['Run', '2010-01-01', '2011-02-02', 10],\n",
      "        ...                    ['Fast', '2011-01-01', '2012-06-05', 55],\n",
      "        ...                    ['Eat', '2012-01-05', '2013-07-05', 94]],\n",
      "        ...                   columns=['Task', 'Start', 'Finish', 'Complete'])\n",
      "        \n",
      "        >>> # Create a figure with Plotly colorscale\n",
      "        >>> fig = create_gantt(df, colors='Blues', index_col='Complete',\n",
      "        ...                    show_colorbar=True, bar_width=0.5,\n",
      "        ...                    showgrid_x=True, showgrid_y=True)\n",
      "        >>> fig.show()\n",
      "    \n",
      "    create_ohlc(open, high, low, close, dates=None, direction='both', **kwargs)\n",
      "        **deprecated**, use instead the plotly.graph_objects trace \n",
      "        :class:`plotly.graph_objects.Ohlc`\n",
      "        \n",
      "        :param (list) open: opening values\n",
      "        :param (list) high: high values\n",
      "        :param (list) low: low values\n",
      "        :param (list) close: closing\n",
      "        :param (list) dates: list of datetime objects. Default: None\n",
      "        :param (string) direction: direction can be 'increasing', 'decreasing',\n",
      "            or 'both'. When the direction is 'increasing', the returned figure\n",
      "            consists of all units where the close value is greater than the\n",
      "            corresponding open value, and when the direction is 'decreasing',\n",
      "            the returned figure consists of all units where the close value is\n",
      "            less than or equal to the corresponding open value. When the\n",
      "            direction is 'both', both increasing and decreasing units are\n",
      "            returned. Default: 'both'\n",
      "        :param kwargs: kwargs passed through plotly.graph_objs.Scatter.\n",
      "            These kwargs describe other attributes about the ohlc Scatter trace\n",
      "            such as the color or the legend name. For more information on valid\n",
      "            kwargs call help(plotly.graph_objs.Scatter)\n",
      "        \n",
      "        :rtype (dict): returns a representation of an ohlc chart figure.\n",
      "        \n",
      "        Example 1: Simple OHLC chart from a Pandas DataFrame\n",
      "        \n",
      "        >>> from plotly.figure_factory import create_ohlc\n",
      "        >>> from datetime import datetime\n",
      "        \n",
      "        >>> import pandas as pd\n",
      "        >>> df = pd.read_csv('https://raw.githubusercontent.com/plotly/datasets/master/finance-charts-apple.csv')\n",
      "        >>> fig = create_ohlc(df['AAPL.Open'], df['AAPL.High'], df['AAPL.Low'], df['AAPL.Close'], dates=df.index)\n",
      "        >>> fig.show()\n",
      "    \n",
      "    create_quiver(x, y, u, v, scale=0.1, arrow_scale=0.3, angle=0.3490658503988659, scaleratio=None, **kwargs)\n",
      "        Returns data for a quiver plot.\n",
      "        \n",
      "        :param (list|ndarray) x: x coordinates of the arrow locations\n",
      "        :param (list|ndarray) y: y coordinates of the arrow locations\n",
      "        :param (list|ndarray) u: x components of the arrow vectors\n",
      "        :param (list|ndarray) v: y components of the arrow vectors\n",
      "        :param (float in [0,1]) scale: scales size of the arrows(ideally to\n",
      "            avoid overlap). Default = .1\n",
      "        :param (float in [0,1]) arrow_scale: value multiplied to length of barb\n",
      "            to get length of arrowhead. Default = .3\n",
      "        :param (angle in radians) angle: angle of arrowhead. Default = pi/9\n",
      "        :param (positive float) scaleratio: the ratio between the scale of the y-axis\n",
      "            and the scale of the x-axis (scale_y / scale_x). Default = None, the\n",
      "            scale ratio is not fixed.\n",
      "        :param kwargs: kwargs passed through plotly.graph_objs.Scatter\n",
      "            for more information on valid kwargs call\n",
      "            help(plotly.graph_objs.Scatter)\n",
      "        \n",
      "        :rtype (dict): returns a representation of quiver figure.\n",
      "        \n",
      "        Example 1: Trivial Quiver\n",
      "        \n",
      "        >>> from plotly.figure_factory import create_quiver\n",
      "        >>> import math\n",
      "        \n",
      "        >>> # 1 Arrow from (0,0) to (1,1)\n",
      "        >>> fig = create_quiver(x=[0], y=[0], u=[1], v=[1], scale=1)\n",
      "        >>> fig.show()\n",
      "        \n",
      "        \n",
      "        Example 2: Quiver plot using meshgrid\n",
      "        \n",
      "        >>> from plotly.figure_factory import create_quiver\n",
      "        \n",
      "        >>> import numpy as np\n",
      "        >>> import math\n",
      "        \n",
      "        >>> # Add data\n",
      "        >>> x,y = np.meshgrid(np.arange(0, 2, .2), np.arange(0, 2, .2))\n",
      "        >>> u = np.cos(x)*y\n",
      "        >>> v = np.sin(x)*y\n",
      "        \n",
      "        >>> #Create quiver\n",
      "        >>> fig = create_quiver(x, y, u, v)\n",
      "        >>> fig.show()\n",
      "        \n",
      "        \n",
      "        Example 3: Styling the quiver plot\n",
      "        \n",
      "        >>> from plotly.figure_factory import create_quiver\n",
      "        >>> import numpy as np\n",
      "        >>> import math\n",
      "        \n",
      "        >>> # Add data\n",
      "        >>> x, y = np.meshgrid(np.arange(-np.pi, math.pi, .5),\n",
      "        ...                    np.arange(-math.pi, math.pi, .5))\n",
      "        >>> u = np.cos(x)*y\n",
      "        >>> v = np.sin(x)*y\n",
      "        \n",
      "        >>> # Create quiver\n",
      "        >>> fig = create_quiver(x, y, u, v, scale=.2, arrow_scale=.3, angle=math.pi/6,\n",
      "        ...                     name='Wind Velocity', line=dict(width=1))\n",
      "        \n",
      "        >>> # Add title to layout\n",
      "        >>> fig.update_layout(title='Quiver Plot') # doctest: +SKIP\n",
      "        >>> fig.show()\n",
      "        \n",
      "        \n",
      "        Example 4: Forcing a fix scale ratio to maintain the arrow length\n",
      "        \n",
      "        >>> from plotly.figure_factory import create_quiver\n",
      "        >>> import numpy as np\n",
      "        \n",
      "        >>> # Add data\n",
      "        >>> x,y = np.meshgrid(np.arange(0.5, 3.5, .5), np.arange(0.5, 4.5, .5))\n",
      "        >>> u = x\n",
      "        >>> v = y\n",
      "        >>> angle = np.arctan(v / u)\n",
      "        >>> norm = 0.25\n",
      "        >>> u = norm * np.cos(angle)\n",
      "        >>> v = norm * np.sin(angle)\n",
      "        \n",
      "        >>> # Create quiver with a fix scale ratio\n",
      "        >>> fig = create_quiver(x, y, u, v, scale = 1, scaleratio = 0.5)\n",
      "        >>> fig.show()\n",
      "    \n",
      "    create_scatterplotmatrix(df, index=None, endpts=None, diag='scatter', height=500, width=500, size=6, title='Scatterplot Matrix', colormap=None, colormap_type='cat', dataframe=None, headers=None, index_vals=None, **kwargs)\n",
      "        Returns data for a scatterplot matrix;\n",
      "        **deprecated**,\n",
      "        use instead the plotly.graph_objects trace\n",
      "        :class:`plotly.graph_objects.Splom`.\n",
      "        \n",
      "        :param (array) df: array of the data with column headers\n",
      "        :param (str) index: name of the index column in data array\n",
      "        :param (list|tuple) endpts: takes an increasing sequece of numbers\n",
      "            that defines intervals on the real line. They are used to group\n",
      "            the entries in an index of numbers into their corresponding\n",
      "            interval and therefore can be treated as categorical data\n",
      "        :param (str) diag: sets the chart type for the main diagonal plots.\n",
      "            The options are 'scatter', 'histogram' and 'box'.\n",
      "        :param (int|float) height: sets the height of the chart\n",
      "        :param (int|float) width: sets the width of the chart\n",
      "        :param (float) size: sets the marker size (in px)\n",
      "        :param (str) title: the title label of the scatterplot matrix\n",
      "        :param (str|tuple|list|dict) colormap: either a plotly scale name,\n",
      "            an rgb or hex color, a color tuple, a list of colors or a\n",
      "            dictionary. An rgb color is of the form 'rgb(x, y, z)' where\n",
      "            x, y and z belong to the interval [0, 255] and a color tuple is a\n",
      "            tuple of the form (a, b, c) where a, b and c belong to [0, 1].\n",
      "            If colormap is a list, it must contain valid color types as its\n",
      "            members.\n",
      "            If colormap is a dictionary, all the string entries in\n",
      "            the index column must be a key in colormap. In this case, the\n",
      "            colormap_type is forced to 'cat' or categorical\n",
      "        :param (str) colormap_type: determines how colormap is interpreted.\n",
      "            Valid choices are 'seq' (sequential) and 'cat' (categorical). If\n",
      "            'seq' is selected, only the first two colors in colormap will be\n",
      "            considered (when colormap is a list) and the index values will be\n",
      "            linearly interpolated between those two colors. This option is\n",
      "            forced if all index values are numeric.\n",
      "            If 'cat' is selected, a color from colormap will be assigned to\n",
      "            each category from index, including the intervals if endpts is\n",
      "            being used\n",
      "        :param (dict) **kwargs: a dictionary of scatterplot arguments\n",
      "            The only forbidden parameters are 'size', 'color' and\n",
      "            'colorscale' in 'marker'\n",
      "        \n",
      "        Example 1: Vanilla Scatterplot Matrix\n",
      "        \n",
      "        >>> from plotly.graph_objs import graph_objs\n",
      "        >>> from plotly.figure_factory import create_scatterplotmatrix\n",
      "        \n",
      "        >>> import numpy as np\n",
      "        >>> import pandas as pd\n",
      "        \n",
      "        >>> # Create dataframe\n",
      "        >>> df = pd.DataFrame(np.random.randn(10, 2),\n",
      "        ...                 columns=['Column 1', 'Column 2'])\n",
      "        \n",
      "        >>> # Create scatterplot matrix\n",
      "        >>> fig = create_scatterplotmatrix(df)\n",
      "        >>> fig.show()\n",
      "        \n",
      "        \n",
      "        Example 2: Indexing a Column\n",
      "        \n",
      "        >>> from plotly.graph_objs import graph_objs\n",
      "        >>> from plotly.figure_factory import create_scatterplotmatrix\n",
      "        \n",
      "        >>> import numpy as np\n",
      "        >>> import pandas as pd\n",
      "        \n",
      "        >>> # Create dataframe with index\n",
      "        >>> df = pd.DataFrame(np.random.randn(10, 2),\n",
      "        ...                    columns=['A', 'B'])\n",
      "        \n",
      "        >>> # Add another column of strings to the dataframe\n",
      "        >>> df['Fruit'] = pd.Series(['apple', 'apple', 'grape', 'apple', 'apple',\n",
      "        ...                          'grape', 'pear', 'pear', 'apple', 'pear'])\n",
      "        \n",
      "        >>> # Create scatterplot matrix\n",
      "        >>> fig = create_scatterplotmatrix(df, index='Fruit', size=10)\n",
      "        >>> fig.show()\n",
      "        \n",
      "        \n",
      "        Example 3: Styling the Diagonal Subplots\n",
      "        \n",
      "        >>> from plotly.graph_objs import graph_objs\n",
      "        >>> from plotly.figure_factory import create_scatterplotmatrix\n",
      "        \n",
      "        >>> import numpy as np\n",
      "        >>> import pandas as pd\n",
      "        \n",
      "        >>> # Create dataframe with index\n",
      "        >>> df = pd.DataFrame(np.random.randn(10, 4),\n",
      "        ...                    columns=['A', 'B', 'C', 'D'])\n",
      "        \n",
      "        >>> # Add another column of strings to the dataframe\n",
      "        >>> df['Fruit'] = pd.Series(['apple', 'apple', 'grape', 'apple', 'apple',\n",
      "        ...                          'grape', 'pear', 'pear', 'apple', 'pear'])\n",
      "        \n",
      "        >>> # Create scatterplot matrix\n",
      "        >>> fig = create_scatterplotmatrix(df, diag='box', index='Fruit', height=1000,\n",
      "        ...                                width=1000)\n",
      "        >>> fig.show()\n",
      "        \n",
      "        \n",
      "        Example 4: Use a Theme to Style the Subplots\n",
      "        \n",
      "        >>> from plotly.graph_objs import graph_objs\n",
      "        >>> from plotly.figure_factory import create_scatterplotmatrix\n",
      "        \n",
      "        >>> import numpy as np\n",
      "        >>> import pandas as pd\n",
      "        \n",
      "        >>> # Create dataframe with random data\n",
      "        >>> df = pd.DataFrame(np.random.randn(100, 3),\n",
      "        ...                    columns=['A', 'B', 'C'])\n",
      "        \n",
      "        >>> # Create scatterplot matrix using a built-in\n",
      "        >>> # Plotly palette scale and indexing column 'A'\n",
      "        >>> fig = create_scatterplotmatrix(df, diag='histogram', index='A',\n",
      "        ...                                colormap='Blues', height=800, width=800)\n",
      "        >>> fig.show()\n",
      "        \n",
      "        \n",
      "        Example 5: Example 4 with Interval Factoring\n",
      "        \n",
      "        >>> from plotly.graph_objs import graph_objs\n",
      "        >>> from plotly.figure_factory import create_scatterplotmatrix\n",
      "        \n",
      "        >>> import numpy as np\n",
      "        >>> import pandas as pd\n",
      "        \n",
      "        >>> # Create dataframe with random data\n",
      "        >>> df = pd.DataFrame(np.random.randn(100, 3),\n",
      "        ...                    columns=['A', 'B', 'C'])\n",
      "        \n",
      "        >>> # Create scatterplot matrix using a list of 2 rgb tuples\n",
      "        >>> # and endpoints at -1, 0 and 1\n",
      "        >>> fig = create_scatterplotmatrix(df, diag='histogram', index='A',\n",
      "        ...                                colormap=['rgb(140, 255, 50)',\n",
      "        ...                                          'rgb(170, 60, 115)', '#6c4774',\n",
      "        ...                                          (0.5, 0.1, 0.8)],\n",
      "        ...                                endpts=[-1, 0, 1], height=800, width=800)\n",
      "        >>> fig.show()\n",
      "        \n",
      "        \n",
      "        Example 6: Using the colormap as a Dictionary\n",
      "        \n",
      "        >>> from plotly.graph_objs import graph_objs\n",
      "        >>> from plotly.figure_factory import create_scatterplotmatrix\n",
      "        \n",
      "        >>> import numpy as np\n",
      "        >>> import pandas as pd\n",
      "        >>> import random\n",
      "        \n",
      "        >>> # Create dataframe with random data\n",
      "        >>> df = pd.DataFrame(np.random.randn(100, 3),\n",
      "        ...                    columns=['Column A',\n",
      "        ...                             'Column B',\n",
      "        ...                             'Column C'])\n",
      "        \n",
      "        >>> # Add new color column to dataframe\n",
      "        >>> new_column = []\n",
      "        >>> strange_colors = ['turquoise', 'limegreen', 'goldenrod']\n",
      "        \n",
      "        >>> for j in range(100):\n",
      "        ...     new_column.append(random.choice(strange_colors))\n",
      "        >>> df['Colors'] = pd.Series(new_column, index=df.index)\n",
      "        \n",
      "        >>> # Create scatterplot matrix using a dictionary of hex color values\n",
      "        >>> # which correspond to actual color names in 'Colors' column\n",
      "        >>> fig = create_scatterplotmatrix(\n",
      "        ...     df, diag='box', index='Colors',\n",
      "        ...     colormap= dict(\n",
      "        ...         turquoise = '#00F5FF',\n",
      "        ...         limegreen = '#32CD32',\n",
      "        ...         goldenrod = '#DAA520'\n",
      "        ...     ),\n",
      "        ...     colormap_type='cat',\n",
      "        ...     height=800, width=800\n",
      "        ... )\n",
      "        >>> fig.show()\n",
      "    \n",
      "    create_streamline(x, y, u, v, density=1, angle=0.3490658503988659, arrow_scale=0.09, **kwargs)\n",
      "        Returns data for a streamline plot.\n",
      "        \n",
      "        :param (list|ndarray) x: 1 dimensional, evenly spaced list or array\n",
      "        :param (list|ndarray) y: 1 dimensional, evenly spaced list or array\n",
      "        :param (ndarray) u: 2 dimensional array\n",
      "        :param (ndarray) v: 2 dimensional array\n",
      "        :param (float|int) density: controls the density of streamlines in\n",
      "            plot. This is multiplied by 30 to scale similiarly to other\n",
      "            available streamline functions such as matplotlib.\n",
      "            Default = 1\n",
      "        :param (angle in radians) angle: angle of arrowhead. Default = pi/9\n",
      "        :param (float in [0,1]) arrow_scale: value to scale length of arrowhead\n",
      "            Default = .09\n",
      "        :param kwargs: kwargs passed through plotly.graph_objs.Scatter\n",
      "            for more information on valid kwargs call\n",
      "            help(plotly.graph_objs.Scatter)\n",
      "        \n",
      "        :rtype (dict): returns a representation of streamline figure.\n",
      "        \n",
      "        Example 1: Plot simple streamline and increase arrow size\n",
      "        \n",
      "        >>> from plotly.figure_factory import create_streamline\n",
      "        >>> import plotly.graph_objects as go\n",
      "        >>> import numpy as np\n",
      "        >>> import math\n",
      "        \n",
      "        >>> # Add data\n",
      "        >>> x = np.linspace(-3, 3, 100)\n",
      "        >>> y = np.linspace(-3, 3, 100)\n",
      "        >>> Y, X = np.meshgrid(x, y)\n",
      "        >>> u = -1 - X**2 + Y\n",
      "        >>> v = 1 + X - Y**2\n",
      "        >>> u = u.T  # Transpose\n",
      "        >>> v = v.T  # Transpose\n",
      "        \n",
      "        >>> # Create streamline\n",
      "        >>> fig = create_streamline(x, y, u, v, arrow_scale=.1)\n",
      "        >>> fig.show()\n",
      "        \n",
      "        Example 2: from nbviewer.ipython.org/github/barbagroup/AeroPython\n",
      "        \n",
      "        >>> from plotly.figure_factory import create_streamline\n",
      "        >>> import numpy as np\n",
      "        >>> import math\n",
      "        \n",
      "        >>> # Add data\n",
      "        >>> N = 50\n",
      "        >>> x_start, x_end = -2.0, 2.0\n",
      "        >>> y_start, y_end = -1.0, 1.0\n",
      "        >>> x = np.linspace(x_start, x_end, N)\n",
      "        >>> y = np.linspace(y_start, y_end, N)\n",
      "        >>> X, Y = np.meshgrid(x, y)\n",
      "        >>> ss = 5.0\n",
      "        >>> x_s, y_s = -1.0, 0.0\n",
      "        \n",
      "        >>> # Compute the velocity field on the mesh grid\n",
      "        >>> u_s = ss/(2*np.pi) * (X-x_s)/((X-x_s)**2 + (Y-y_s)**2)\n",
      "        >>> v_s = ss/(2*np.pi) * (Y-y_s)/((X-x_s)**2 + (Y-y_s)**2)\n",
      "        \n",
      "        >>> # Create streamline\n",
      "        >>> fig = create_streamline(x, y, u_s, v_s, density=2, name='streamline')\n",
      "        \n",
      "        >>> # Add source point\n",
      "        >>> point = go.Scatter(x=[x_s], y=[y_s], mode='markers',\n",
      "        ...                    marker_size=14, name='source point')\n",
      "        \n",
      "        >>> fig.add_trace(point) # doctest: +SKIP\n",
      "        >>> fig.show()\n",
      "    \n",
      "    create_table(table_text, colorscale=None, font_colors=None, index=False, index_title='', annotation_offset=0.45, height_constant=30, hoverinfo='none', **kwargs)\n",
      "        Function that creates data tables.\n",
      "        \n",
      "        See also the plotly.graph_objects trace\n",
      "        :class:`plotly.graph_objects.Table`\n",
      "        \n",
      "        :param (pandas.Dataframe | list[list]) text: data for table.\n",
      "        :param (str|list[list]) colorscale: Colorscale for table where the\n",
      "            color at value 0 is the header color, .5 is the first table color\n",
      "            and 1 is the second table color. (Set .5 and 1 to avoid the striped\n",
      "            table effect). Default=[[0, '#66b2ff'], [.5, '#d9d9d9'],\n",
      "            [1, '#ffffff']]\n",
      "        :param (list) font_colors: Color for fonts in table. Can be a single\n",
      "            color, three colors, or a color for each row in the table.\n",
      "            Default=['#000000'] (black text for the entire table)\n",
      "        :param (int) height_constant: Constant multiplied by # of rows to\n",
      "            create table height. Default=30.\n",
      "        :param (bool) index: Create (header-colored) index column index from\n",
      "            Pandas dataframe or list[0] for each list in text. Default=False.\n",
      "        :param (string) index_title: Title for index column. Default=''.\n",
      "        :param kwargs: kwargs passed through plotly.graph_objs.Heatmap.\n",
      "            These kwargs describe other attributes about the annotated Heatmap\n",
      "            trace such as the colorscale. For more information on valid kwargs\n",
      "            call help(plotly.graph_objs.Heatmap)\n",
      "        \n",
      "        Example 1: Simple Plotly Table\n",
      "        \n",
      "        >>> from plotly.figure_factory import create_table\n",
      "        \n",
      "        >>> text = [['Country', 'Year', 'Population'],\n",
      "        ...         ['US', 2000, 282200000],\n",
      "        ...         ['Canada', 2000, 27790000],\n",
      "        ...         ['US', 2010, 309000000],\n",
      "        ...         ['Canada', 2010, 34000000]]\n",
      "        \n",
      "        >>> table = create_table(text)\n",
      "        >>> table.show()\n",
      "        \n",
      "        Example 2: Table with Custom Coloring\n",
      "        \n",
      "        >>> from plotly.figure_factory import create_table\n",
      "        >>> text = [['Country', 'Year', 'Population'],\n",
      "        ...         ['US', 2000, 282200000],\n",
      "        ...         ['Canada', 2000, 27790000],\n",
      "        ...         ['US', 2010, 309000000],\n",
      "        ...         ['Canada', 2010, 34000000]]\n",
      "        >>> table = create_table(text,\n",
      "        ...                      colorscale=[[0, '#000000'],\n",
      "        ...                                  [.5, '#80beff'],\n",
      "        ...                                  [1, '#cce5ff']],\n",
      "        ...                      font_colors=['#ffffff', '#000000',\n",
      "        ...                                 '#000000'])\n",
      "        >>> table.show()\n",
      "        \n",
      "        Example 3: Simple Plotly Table with Pandas\n",
      "        \n",
      "        >>> from plotly.figure_factory import create_table\n",
      "        >>> import pandas as pd\n",
      "        >>> df = pd.read_csv('http://www.stat.ubc.ca/~jenny/notOcto/STAT545A/examples/gapminder/data/gapminderDataFiveYear.txt', sep='      ')\n",
      "        >>> df_p = df[0:25]\n",
      "        >>> table_simple = create_table(df_p)\n",
      "        >>> table_simple.show()\n",
      "    \n",
      "    create_ternary_contour(*args, **kwargs)\n",
      "    \n",
      "    create_trisurf(x, y, z, simplices, colormap=None, show_colorbar=True, scale=None, color_func=None, title='Trisurf Plot', plot_edges=True, showbackground=True, backgroundcolor='rgb(230, 230, 230)', gridcolor='rgb(255, 255, 255)', zerolinecolor='rgb(255, 255, 255)', edges_color='rgb(50, 50, 50)', height=800, width=800, aspectratio=None)\n",
      "        Returns figure for a triangulated surface plot\n",
      "        \n",
      "        :param (array) x: data values of x in a 1D array\n",
      "        :param (array) y: data values of y in a 1D array\n",
      "        :param (array) z: data values of z in a 1D array\n",
      "        :param (array) simplices: an array of shape (ntri, 3) where ntri is\n",
      "            the number of triangles in the triangularization. Each row of the\n",
      "            array contains the indicies of the verticies of each triangle\n",
      "        :param (str|tuple|list) colormap: either a plotly scale name, an rgb\n",
      "            or hex color, a color tuple or a list of colors. An rgb color is\n",
      "            of the form 'rgb(x, y, z)' where x, y, z belong to the interval\n",
      "            [0, 255] and a color tuple is a tuple of the form (a, b, c) where\n",
      "            a, b and c belong to [0, 1]. If colormap is a list, it must\n",
      "            contain the valid color types aforementioned as its members\n",
      "        :param (bool) show_colorbar: determines if colorbar is visible\n",
      "        :param (list|array) scale: sets the scale values to be used if a non-\n",
      "            linearly interpolated colormap is desired. If left as None, a\n",
      "            linear interpolation between the colors will be excecuted\n",
      "        :param (function|list) color_func: The parameter that determines the\n",
      "            coloring of the surface. Takes either a function with 3 arguments\n",
      "            x, y, z or a list/array of color values the same length as\n",
      "            simplices. If None, coloring will only depend on the z axis\n",
      "        :param (str) title: title of the plot\n",
      "        :param (bool) plot_edges: determines if the triangles on the trisurf\n",
      "            are visible\n",
      "        :param (bool) showbackground: makes background in plot visible\n",
      "        :param (str) backgroundcolor: color of background. Takes a string of\n",
      "            the form 'rgb(x,y,z)' x,y,z are between 0 and 255 inclusive\n",
      "        :param (str) gridcolor: color of the gridlines besides the axes. Takes\n",
      "            a string of the form 'rgb(x,y,z)' x,y,z are between 0 and 255\n",
      "            inclusive\n",
      "        :param (str) zerolinecolor: color of the axes. Takes a string of the\n",
      "            form 'rgb(x,y,z)' x,y,z are between 0 and 255 inclusive\n",
      "        :param (str) edges_color: color of the edges, if plot_edges is True\n",
      "        :param (int|float) height: the height of the plot (in pixels)\n",
      "        :param (int|float) width: the width of the plot (in pixels)\n",
      "        :param (dict) aspectratio: a dictionary of the aspect ratio values for\n",
      "            the x, y and z axes. 'x', 'y' and 'z' take (int|float) values\n",
      "        \n",
      "        Example 1: Sphere\n",
      "        \n",
      "        >>> # Necessary Imports for Trisurf\n",
      "        >>> import numpy as np\n",
      "        >>> from scipy.spatial import Delaunay\n",
      "        \n",
      "        >>> from plotly.figure_factory import create_trisurf\n",
      "        >>> from plotly.graph_objs import graph_objs\n",
      "        \n",
      "        >>> # Make data for plot\n",
      "        >>> u = np.linspace(0, 2*np.pi, 20)\n",
      "        >>> v = np.linspace(0, np.pi, 20)\n",
      "        >>> u,v = np.meshgrid(u,v)\n",
      "        >>> u = u.flatten()\n",
      "        >>> v = v.flatten()\n",
      "        \n",
      "        >>> x = np.sin(v)*np.cos(u)\n",
      "        >>> y = np.sin(v)*np.sin(u)\n",
      "        >>> z = np.cos(v)\n",
      "        \n",
      "        >>> points2D = np.vstack([u,v]).T\n",
      "        >>> tri = Delaunay(points2D)\n",
      "        >>> simplices = tri.simplices\n",
      "        \n",
      "        >>> # Create a figure\n",
      "        >>> fig1 = create_trisurf(x=x, y=y, z=z, colormap=\"Rainbow\",\n",
      "        ...                       simplices=simplices)\n",
      "        \n",
      "        Example 2: Torus\n",
      "        \n",
      "        >>> # Necessary Imports for Trisurf\n",
      "        >>> import numpy as np\n",
      "        >>> from scipy.spatial import Delaunay\n",
      "        \n",
      "        >>> from plotly.figure_factory import create_trisurf\n",
      "        >>> from plotly.graph_objs import graph_objs\n",
      "        \n",
      "        >>> # Make data for plot\n",
      "        >>> u = np.linspace(0, 2*np.pi, 20)\n",
      "        >>> v = np.linspace(0, 2*np.pi, 20)\n",
      "        >>> u,v = np.meshgrid(u,v)\n",
      "        >>> u = u.flatten()\n",
      "        >>> v = v.flatten()\n",
      "        \n",
      "        >>> x = (3 + (np.cos(v)))*np.cos(u)\n",
      "        >>> y = (3 + (np.cos(v)))*np.sin(u)\n",
      "        >>> z = np.sin(v)\n",
      "        \n",
      "        >>> points2D = np.vstack([u,v]).T\n",
      "        >>> tri = Delaunay(points2D)\n",
      "        >>> simplices = tri.simplices\n",
      "        \n",
      "        >>> # Create a figure\n",
      "        >>> fig1 = create_trisurf(x=x, y=y, z=z, colormap=\"Viridis\",\n",
      "        ...                       simplices=simplices)\n",
      "        \n",
      "        Example 3: Mobius Band\n",
      "        \n",
      "        >>> # Necessary Imports for Trisurf\n",
      "        >>> import numpy as np\n",
      "        >>> from scipy.spatial import Delaunay\n",
      "        \n",
      "        >>> from plotly.figure_factory import create_trisurf\n",
      "        >>> from plotly.graph_objs import graph_objs\n",
      "        \n",
      "        >>> # Make data for plot\n",
      "        >>> u = np.linspace(0, 2*np.pi, 24)\n",
      "        >>> v = np.linspace(-1, 1, 8)\n",
      "        >>> u,v = np.meshgrid(u,v)\n",
      "        >>> u = u.flatten()\n",
      "        >>> v = v.flatten()\n",
      "        \n",
      "        >>> tp = 1 + 0.5*v*np.cos(u/2.)\n",
      "        >>> x = tp*np.cos(u)\n",
      "        >>> y = tp*np.sin(u)\n",
      "        >>> z = 0.5*v*np.sin(u/2.)\n",
      "        \n",
      "        >>> points2D = np.vstack([u,v]).T\n",
      "        >>> tri = Delaunay(points2D)\n",
      "        >>> simplices = tri.simplices\n",
      "        \n",
      "        >>> # Create a figure\n",
      "        >>> fig1 = create_trisurf(x=x, y=y, z=z, colormap=[(0.2, 0.4, 0.6), (1, 1, 1)],\n",
      "        ...                       simplices=simplices)\n",
      "        \n",
      "        Example 4: Using a Custom Colormap Function with Light Cone\n",
      "        \n",
      "        >>> # Necessary Imports for Trisurf\n",
      "        >>> import numpy as np\n",
      "        >>> from scipy.spatial import Delaunay\n",
      "        \n",
      "        >>> from plotly.figure_factory import create_trisurf\n",
      "        >>> from plotly.graph_objs import graph_objs\n",
      "        \n",
      "        >>> # Make data for plot\n",
      "        >>> u=np.linspace(-np.pi, np.pi, 30)\n",
      "        >>> v=np.linspace(-np.pi, np.pi, 30)\n",
      "        >>> u,v=np.meshgrid(u,v)\n",
      "        >>> u=u.flatten()\n",
      "        >>> v=v.flatten()\n",
      "        \n",
      "        >>> x = u\n",
      "        >>> y = u*np.cos(v)\n",
      "        >>> z = u*np.sin(v)\n",
      "        \n",
      "        >>> points2D = np.vstack([u,v]).T\n",
      "        >>> tri = Delaunay(points2D)\n",
      "        >>> simplices = tri.simplices\n",
      "        \n",
      "        >>> # Define distance function\n",
      "        >>> def dist_origin(x, y, z):\n",
      "        ...     return np.sqrt((1.0 * x)**2 + (1.0 * y)**2 + (1.0 * z)**2)\n",
      "        \n",
      "        >>> # Create a figure\n",
      "        >>> fig1 = create_trisurf(x=x, y=y, z=z,\n",
      "        ...                       colormap=['#FFFFFF', '#E4FFFE',\n",
      "        ...                                 '#A4F6F9', '#FF99FE',\n",
      "        ...                                 '#BA52ED'],\n",
      "        ...                       scale=[0, 0.6, 0.71, 0.89, 1],\n",
      "        ...                       simplices=simplices,\n",
      "        ...                       color_func=dist_origin)\n",
      "        \n",
      "        Example 5: Enter color_func as a list of colors\n",
      "        \n",
      "        >>> # Necessary Imports for Trisurf\n",
      "        >>> import numpy as np\n",
      "        >>> from scipy.spatial import Delaunay\n",
      "        >>> import random\n",
      "        \n",
      "        >>> from plotly.figure_factory import create_trisurf\n",
      "        >>> from plotly.graph_objs import graph_objs\n",
      "        \n",
      "        >>> # Make data for plot\n",
      "        >>> u=np.linspace(-np.pi, np.pi, 30)\n",
      "        >>> v=np.linspace(-np.pi, np.pi, 30)\n",
      "        >>> u,v=np.meshgrid(u,v)\n",
      "        >>> u=u.flatten()\n",
      "        >>> v=v.flatten()\n",
      "        \n",
      "        >>> x = u\n",
      "        >>> y = u*np.cos(v)\n",
      "        >>> z = u*np.sin(v)\n",
      "        \n",
      "        >>> points2D = np.vstack([u,v]).T\n",
      "        >>> tri = Delaunay(points2D)\n",
      "        >>> simplices = tri.simplices\n",
      "        \n",
      "        \n",
      "        >>> colors = []\n",
      "        >>> color_choices = ['rgb(0, 0, 0)', '#6c4774', '#d6c7dd']\n",
      "        \n",
      "        >>> for index in range(len(simplices)):\n",
      "        ...     colors.append(random.choice(color_choices))\n",
      "        \n",
      "        >>> fig = create_trisurf(\n",
      "        ...     x, y, z, simplices,\n",
      "        ...     color_func=colors,\n",
      "        ...     show_colorbar=True,\n",
      "        ...     edges_color='rgb(2, 85, 180)',\n",
      "        ...     title=' Modern Art'\n",
      "        ... )\n",
      "    \n",
      "    create_violin(data, data_header=None, group_header=None, colors=None, use_colorscale=False, group_stats=None, rugplot=True, sort=False, height=450, width=600, title='Violin and Rug Plot')\n",
      "        **deprecated**, use instead the plotly.graph_objects trace\n",
      "        :class:`plotly.graph_objects.Violin`.\n",
      "        \n",
      "        :param (list|array) data: accepts either a list of numerical values,\n",
      "            a list of dictionaries all with identical keys and at least one\n",
      "            column of numeric values, or a pandas dataframe with at least one\n",
      "            column of numbers.\n",
      "        :param (str) data_header: the header of the data column to be used\n",
      "            from an inputted pandas dataframe. Not applicable if 'data' is\n",
      "            a list of numeric values.\n",
      "        :param (str) group_header: applicable if grouping data by a variable.\n",
      "            'group_header' must be set to the name of the grouping variable.\n",
      "        :param (str|tuple|list|dict) colors: either a plotly scale name,\n",
      "            an rgb or hex color, a color tuple, a list of colors or a\n",
      "            dictionary. An rgb color is of the form 'rgb(x, y, z)' where\n",
      "            x, y and z belong to the interval [0, 255] and a color tuple is a\n",
      "            tuple of the form (a, b, c) where a, b and c belong to [0, 1].\n",
      "            If colors is a list, it must contain valid color types as its\n",
      "            members.\n",
      "        :param (bool) use_colorscale: only applicable if grouping by another\n",
      "            variable. Will implement a colorscale based on the first 2 colors\n",
      "            of param colors. This means colors must be a list with at least 2\n",
      "            colors in it (Plotly colorscales are accepted since they map to a\n",
      "            list of two rgb colors). Default = False\n",
      "        :param (dict) group_stats: a dictioanry where each key is a unique\n",
      "            value from the group_header column in data. Each value must be a\n",
      "            number and will be used to color the violin plots if a colorscale\n",
      "            is being used.\n",
      "        :param (bool) rugplot: determines if a rugplot is draw on violin plot.\n",
      "            Default = True\n",
      "        :param (bool) sort: determines if violins are sorted\n",
      "            alphabetically (True) or by input order (False). Default = False\n",
      "        :param (float) height: the height of the violin plot.\n",
      "        :param (float) width: the width of the violin plot.\n",
      "        :param (str) title: the title of the violin plot.\n",
      "        \n",
      "        Example 1: Single Violin Plot\n",
      "        \n",
      "        >>> from plotly.figure_factory import create_violin\n",
      "        >>> import plotly.graph_objs as graph_objects\n",
      "        \n",
      "        >>> import numpy as np\n",
      "        >>> from scipy import stats\n",
      "        \n",
      "        >>> # create list of random values\n",
      "        >>> data_list = np.random.randn(100)\n",
      "        \n",
      "        >>> # create violin fig\n",
      "        >>> fig = create_violin(data_list, colors='#604d9e')\n",
      "        \n",
      "        >>> # plot\n",
      "        >>> fig.show()\n",
      "        \n",
      "        Example 2: Multiple Violin Plots with Qualitative Coloring\n",
      "        \n",
      "        >>> from plotly.figure_factory import create_violin\n",
      "        >>> import plotly.graph_objs as graph_objects\n",
      "        \n",
      "        >>> import numpy as np\n",
      "        >>> import pandas as pd\n",
      "        >>> from scipy import stats\n",
      "        \n",
      "        >>> # create dataframe\n",
      "        >>> np.random.seed(619517)\n",
      "        >>> Nr=250\n",
      "        >>> y = np.random.randn(Nr)\n",
      "        >>> gr = np.random.choice(list(\"ABCDE\"), Nr)\n",
      "        >>> norm_params=[(0, 1.2), (0.7, 1), (-0.5, 1.4), (0.3, 1), (0.8, 0.9)]\n",
      "        \n",
      "        >>> for i, letter in enumerate(\"ABCDE\"):\n",
      "        ...     y[gr == letter] *=norm_params[i][1]+ norm_params[i][0]\n",
      "        >>> df = pd.DataFrame(dict(Score=y, Group=gr))\n",
      "        \n",
      "        >>> # create violin fig\n",
      "        >>> fig = create_violin(df, data_header='Score', group_header='Group',\n",
      "        ...                    sort=True, height=600, width=1000)\n",
      "        \n",
      "        >>> # plot\n",
      "        >>> fig.show()\n",
      "        \n",
      "        Example 3: Violin Plots with Colorscale\n",
      "        \n",
      "        >>> from plotly.figure_factory import create_violin\n",
      "        >>> import plotly.graph_objs as graph_objects\n",
      "        \n",
      "        >>> import numpy as np\n",
      "        >>> import pandas as pd\n",
      "        >>> from scipy import stats\n",
      "        \n",
      "        >>> # create dataframe\n",
      "        >>> np.random.seed(619517)\n",
      "        >>> Nr=250\n",
      "        >>> y = np.random.randn(Nr)\n",
      "        >>> gr = np.random.choice(list(\"ABCDE\"), Nr)\n",
      "        >>> norm_params=[(0, 1.2), (0.7, 1), (-0.5, 1.4), (0.3, 1), (0.8, 0.9)]\n",
      "        \n",
      "        >>> for i, letter in enumerate(\"ABCDE\"):\n",
      "        ...     y[gr == letter] *=norm_params[i][1]+ norm_params[i][0]\n",
      "        >>> df = pd.DataFrame(dict(Score=y, Group=gr))\n",
      "        \n",
      "        >>> # define header params\n",
      "        >>> data_header = 'Score'\n",
      "        >>> group_header = 'Group'\n",
      "        \n",
      "        >>> # make groupby object with pandas\n",
      "        >>> group_stats = {}\n",
      "        >>> groupby_data = df.groupby([group_header])\n",
      "        \n",
      "        >>> for group in \"ABCDE\":\n",
      "        ...     data_from_group = groupby_data.get_group(group)[data_header]\n",
      "        ...     # take a stat of the grouped data\n",
      "        ...     stat = np.median(data_from_group)\n",
      "        ...     # add to dictionary\n",
      "        ...     group_stats[group] = stat\n",
      "        \n",
      "        >>> # create violin fig\n",
      "        >>> fig = create_violin(df, data_header='Score', group_header='Group',\n",
      "        ...                     height=600, width=1000, use_colorscale=True,\n",
      "        ...                     group_stats=group_stats)\n",
      "        \n",
      "        >>> # plot\n",
      "        >>> fig.show()\n",
      "\n",
      "DATA\n",
      "    __all__ = ['create_2d_density', 'create_annotated_heatmap', 'create_bu...\n",
      "\n",
      "FILE\n",
      "    /Users/tomoyasu.sano/anaconda3/envs/djangoai/lib/python3.7/site-packages/plotly/figure_factory/__init__.py\n",
      "\n",
      "\n"
     ]
    }
   ],
   "source": [
    "help(ff)"
   ]
  },
  {
   "cell_type": "code",
   "execution_count": 172,
   "metadata": {},
   "outputs": [
    {
     "data": {
      "application/vnd.plotly.v1+json": {
       "config": {
        "plotlyServerURL": "https://plot.ly"
       },
       "data": [
        {
         "colorscale": [
          [
           0,
           "#00083e"
          ],
          [
           0.5,
           "#ededee"
          ],
          [
           1,
           "#ffffff"
          ]
         ],
         "hoverinfo": "none",
         "opacity": 0.75,
         "showscale": false,
         "type": "heatmap",
         "z": [
          [
           0,
           0,
           0,
           0,
           0
          ],
          [
           0,
           0.5,
           0.5,
           0.5,
           0.5
          ],
          [
           0,
           1,
           1,
           1,
           1
          ],
          [
           0,
           0.5,
           0.5,
           0.5,
           0.5
          ],
          [
           0,
           1,
           1,
           1,
           1
          ],
          [
           0,
           0.5,
           0.5,
           0.5,
           0.5
          ],
          [
           0,
           1,
           1,
           1,
           1
          ],
          [
           0,
           0.5,
           0.5,
           0.5,
           0.5
          ],
          [
           0,
           1,
           1,
           1,
           1
          ],
          [
           0,
           0.5,
           0.5,
           0.5,
           0.5
          ],
          [
           0,
           1,
           1,
           1,
           1
          ],
          [
           0,
           0.5,
           0.5,
           0.5,
           0.5
          ],
          [
           0,
           1,
           1,
           1,
           1
          ],
          [
           0,
           0.5,
           0.5,
           0.5,
           0.5
          ],
          [
           0,
           1,
           1,
           1,
           1
          ],
          [
           0,
           0.5,
           0.5,
           0.5,
           0.5
          ],
          [
           0,
           1,
           1,
           1,
           1
          ],
          [
           0,
           0.5,
           0.5,
           0.5,
           0.5
          ],
          [
           0,
           1,
           1,
           1,
           1
          ]
         ]
        }
       ],
       "layout": {
        "annotations": [
         {
          "align": "left",
          "font": {
           "color": "#ffffff"
          },
          "showarrow": false,
          "text": "<b>FIM 項目</b>",
          "x": -0.45,
          "xanchor": "left",
          "xref": "x",
          "y": 0,
          "yref": "y"
         },
         {
          "align": "left",
          "font": {
           "color": "#ffffff"
          },
          "showarrow": false,
          "text": "<b>現在</b>",
          "x": 0.55,
          "xanchor": "left",
          "xref": "x",
          "y": 0,
          "yref": "y"
         },
         {
          "align": "left",
          "font": {
           "color": "#ffffff"
          },
          "showarrow": false,
          "text": "<b>１ヶ月後予測</b>",
          "x": 1.55,
          "xanchor": "left",
          "xref": "x",
          "y": 0,
          "yref": "y"
         },
         {
          "align": "left",
          "font": {
           "color": "#ffffff"
          },
          "showarrow": false,
          "text": "<b>2ヶ月後予測</b>",
          "x": 2.55,
          "xanchor": "left",
          "xref": "x",
          "y": 0,
          "yref": "y"
         },
         {
          "align": "left",
          "font": {
           "color": "#ffffff"
          },
          "showarrow": false,
          "text": "<b>3ヶ月後予測</b>",
          "x": 3.55,
          "xanchor": "left",
          "xref": "x",
          "y": 0,
          "yref": "y"
         },
         {
          "align": "left",
          "font": {
           "color": "#ffffff"
          },
          "showarrow": false,
          "text": "<b>meal</b>",
          "x": -0.45,
          "xanchor": "left",
          "xref": "x",
          "y": 1,
          "yref": "y"
         },
         {
          "align": "left",
          "font": {
           "color": "#000000"
          },
          "showarrow": false,
          "text": "2",
          "x": 0.55,
          "xanchor": "left",
          "xref": "x",
          "y": 1,
          "yref": "y"
         },
         {
          "align": "left",
          "font": {
           "color": "#000000"
          },
          "showarrow": false,
          "text": "4",
          "x": 1.55,
          "xanchor": "left",
          "xref": "x",
          "y": 1,
          "yref": "y"
         },
         {
          "align": "left",
          "font": {
           "color": "#000000"
          },
          "showarrow": false,
          "text": "5",
          "x": 2.55,
          "xanchor": "left",
          "xref": "x",
          "y": 1,
          "yref": "y"
         },
         {
          "align": "left",
          "font": {
           "color": "#000000"
          },
          "showarrow": false,
          "text": "5",
          "x": 3.55,
          "xanchor": "left",
          "xref": "x",
          "y": 1,
          "yref": "y"
         },
         {
          "align": "left",
          "font": {
           "color": "#ffffff"
          },
          "showarrow": false,
          "text": "<b>hygienic</b>",
          "x": -0.45,
          "xanchor": "left",
          "xref": "x",
          "y": 2,
          "yref": "y"
         },
         {
          "align": "left",
          "font": {
           "color": "#000000"
          },
          "showarrow": false,
          "text": "1",
          "x": 0.55,
          "xanchor": "left",
          "xref": "x",
          "y": 2,
          "yref": "y"
         },
         {
          "align": "left",
          "font": {
           "color": "#000000"
          },
          "showarrow": false,
          "text": "4",
          "x": 1.55,
          "xanchor": "left",
          "xref": "x",
          "y": 2,
          "yref": "y"
         },
         {
          "align": "left",
          "font": {
           "color": "#000000"
          },
          "showarrow": false,
          "text": "4",
          "x": 2.55,
          "xanchor": "left",
          "xref": "x",
          "y": 2,
          "yref": "y"
         },
         {
          "align": "left",
          "font": {
           "color": "#000000"
          },
          "showarrow": false,
          "text": "5",
          "x": 3.55,
          "xanchor": "left",
          "xref": "x",
          "y": 2,
          "yref": "y"
         },
         {
          "align": "left",
          "font": {
           "color": "#ffffff"
          },
          "showarrow": false,
          "text": "<b>wipingClean</b>",
          "x": -0.45,
          "xanchor": "left",
          "xref": "x",
          "y": 3,
          "yref": "y"
         },
         {
          "align": "left",
          "font": {
           "color": "#000000"
          },
          "showarrow": false,
          "text": "2",
          "x": 0.55,
          "xanchor": "left",
          "xref": "x",
          "y": 3,
          "yref": "y"
         },
         {
          "align": "left",
          "font": {
           "color": "#000000"
          },
          "showarrow": false,
          "text": "4",
          "x": 1.55,
          "xanchor": "left",
          "xref": "x",
          "y": 3,
          "yref": "y"
         },
         {
          "align": "left",
          "font": {
           "color": "#000000"
          },
          "showarrow": false,
          "text": "4",
          "x": 2.55,
          "xanchor": "left",
          "xref": "x",
          "y": 3,
          "yref": "y"
         },
         {
          "align": "left",
          "font": {
           "color": "#000000"
          },
          "showarrow": false,
          "text": "5",
          "x": 3.55,
          "xanchor": "left",
          "xref": "x",
          "y": 3,
          "yref": "y"
         },
         {
          "align": "left",
          "font": {
           "color": "#ffffff"
          },
          "showarrow": false,
          "text": "<b>upperBodyDressing</b>",
          "x": -0.45,
          "xanchor": "left",
          "xref": "x",
          "y": 4,
          "yref": "y"
         },
         {
          "align": "left",
          "font": {
           "color": "#000000"
          },
          "showarrow": false,
          "text": "2",
          "x": 0.55,
          "xanchor": "left",
          "xref": "x",
          "y": 4,
          "yref": "y"
         },
         {
          "align": "left",
          "font": {
           "color": "#000000"
          },
          "showarrow": false,
          "text": "4",
          "x": 1.55,
          "xanchor": "left",
          "xref": "x",
          "y": 4,
          "yref": "y"
         },
         {
          "align": "left",
          "font": {
           "color": "#000000"
          },
          "showarrow": false,
          "text": "4",
          "x": 2.55,
          "xanchor": "left",
          "xref": "x",
          "y": 4,
          "yref": "y"
         },
         {
          "align": "left",
          "font": {
           "color": "#000000"
          },
          "showarrow": false,
          "text": "5",
          "x": 3.55,
          "xanchor": "left",
          "xref": "x",
          "y": 4,
          "yref": "y"
         },
         {
          "align": "left",
          "font": {
           "color": "#ffffff"
          },
          "showarrow": false,
          "text": "<b>lowerBodyDressing</b>",
          "x": -0.45,
          "xanchor": "left",
          "xref": "x",
          "y": 5,
          "yref": "y"
         },
         {
          "align": "left",
          "font": {
           "color": "#000000"
          },
          "showarrow": false,
          "text": "2",
          "x": 0.55,
          "xanchor": "left",
          "xref": "x",
          "y": 5,
          "yref": "y"
         },
         {
          "align": "left",
          "font": {
           "color": "#000000"
          },
          "showarrow": false,
          "text": "4",
          "x": 1.55,
          "xanchor": "left",
          "xref": "x",
          "y": 5,
          "yref": "y"
         },
         {
          "align": "left",
          "font": {
           "color": "#000000"
          },
          "showarrow": false,
          "text": "4",
          "x": 2.55,
          "xanchor": "left",
          "xref": "x",
          "y": 5,
          "yref": "y"
         },
         {
          "align": "left",
          "font": {
           "color": "#000000"
          },
          "showarrow": false,
          "text": "5",
          "x": 3.55,
          "xanchor": "left",
          "xref": "x",
          "y": 5,
          "yref": "y"
         },
         {
          "align": "left",
          "font": {
           "color": "#ffffff"
          },
          "showarrow": false,
          "text": "<b>toiletAction</b>",
          "x": -0.45,
          "xanchor": "left",
          "xref": "x",
          "y": 6,
          "yref": "y"
         },
         {
          "align": "left",
          "font": {
           "color": "#000000"
          },
          "showarrow": false,
          "text": "1",
          "x": 0.55,
          "xanchor": "left",
          "xref": "x",
          "y": 6,
          "yref": "y"
         },
         {
          "align": "left",
          "font": {
           "color": "#000000"
          },
          "showarrow": false,
          "text": "4",
          "x": 1.55,
          "xanchor": "left",
          "xref": "x",
          "y": 6,
          "yref": "y"
         },
         {
          "align": "left",
          "font": {
           "color": "#000000"
          },
          "showarrow": false,
          "text": "4",
          "x": 2.55,
          "xanchor": "left",
          "xref": "x",
          "y": 6,
          "yref": "y"
         },
         {
          "align": "left",
          "font": {
           "color": "#000000"
          },
          "showarrow": false,
          "text": "5",
          "x": 3.55,
          "xanchor": "left",
          "xref": "x",
          "y": 6,
          "yref": "y"
         },
         {
          "align": "left",
          "font": {
           "color": "#ffffff"
          },
          "showarrow": false,
          "text": "<b>urinationControl</b>",
          "x": -0.45,
          "xanchor": "left",
          "xref": "x",
          "y": 7,
          "yref": "y"
         },
         {
          "align": "left",
          "font": {
           "color": "#000000"
          },
          "showarrow": false,
          "text": "3",
          "x": 0.55,
          "xanchor": "left",
          "xref": "x",
          "y": 7,
          "yref": "y"
         },
         {
          "align": "left",
          "font": {
           "color": "#000000"
          },
          "showarrow": false,
          "text": "4",
          "x": 1.55,
          "xanchor": "left",
          "xref": "x",
          "y": 7,
          "yref": "y"
         },
         {
          "align": "left",
          "font": {
           "color": "#000000"
          },
          "showarrow": false,
          "text": "4",
          "x": 2.55,
          "xanchor": "left",
          "xref": "x",
          "y": 7,
          "yref": "y"
         },
         {
          "align": "left",
          "font": {
           "color": "#000000"
          },
          "showarrow": false,
          "text": "5",
          "x": 3.55,
          "xanchor": "left",
          "xref": "x",
          "y": 7,
          "yref": "y"
         },
         {
          "align": "left",
          "font": {
           "color": "#ffffff"
          },
          "showarrow": false,
          "text": "<b>defecationControl</b>",
          "x": -0.45,
          "xanchor": "left",
          "xref": "x",
          "y": 8,
          "yref": "y"
         },
         {
          "align": "left",
          "font": {
           "color": "#000000"
          },
          "showarrow": false,
          "text": "3",
          "x": 0.55,
          "xanchor": "left",
          "xref": "x",
          "y": 8,
          "yref": "y"
         },
         {
          "align": "left",
          "font": {
           "color": "#000000"
          },
          "showarrow": false,
          "text": "4",
          "x": 1.55,
          "xanchor": "left",
          "xref": "x",
          "y": 8,
          "yref": "y"
         },
         {
          "align": "left",
          "font": {
           "color": "#000000"
          },
          "showarrow": false,
          "text": "4",
          "x": 2.55,
          "xanchor": "left",
          "xref": "x",
          "y": 8,
          "yref": "y"
         },
         {
          "align": "left",
          "font": {
           "color": "#000000"
          },
          "showarrow": false,
          "text": "5",
          "x": 3.55,
          "xanchor": "left",
          "xref": "x",
          "y": 8,
          "yref": "y"
         },
         {
          "align": "left",
          "font": {
           "color": "#ffffff"
          },
          "showarrow": false,
          "text": "<b>bedsChairsWheelchairs</b>",
          "x": -0.45,
          "xanchor": "left",
          "xref": "x",
          "y": 9,
          "yref": "y"
         },
         {
          "align": "left",
          "font": {
           "color": "#000000"
          },
          "showarrow": false,
          "text": "2",
          "x": 0.55,
          "xanchor": "left",
          "xref": "x",
          "y": 9,
          "yref": "y"
         },
         {
          "align": "left",
          "font": {
           "color": "#000000"
          },
          "showarrow": false,
          "text": "4",
          "x": 1.55,
          "xanchor": "left",
          "xref": "x",
          "y": 9,
          "yref": "y"
         },
         {
          "align": "left",
          "font": {
           "color": "#000000"
          },
          "showarrow": false,
          "text": "4",
          "x": 2.55,
          "xanchor": "left",
          "xref": "x",
          "y": 9,
          "yref": "y"
         },
         {
          "align": "left",
          "font": {
           "color": "#000000"
          },
          "showarrow": false,
          "text": "5",
          "x": 3.55,
          "xanchor": "left",
          "xref": "x",
          "y": 9,
          "yref": "y"
         },
         {
          "align": "left",
          "font": {
           "color": "#ffffff"
          },
          "showarrow": false,
          "text": "<b>toilet</b>",
          "x": -0.45,
          "xanchor": "left",
          "xref": "x",
          "y": 10,
          "yref": "y"
         },
         {
          "align": "left",
          "font": {
           "color": "#000000"
          },
          "showarrow": false,
          "text": "1",
          "x": 0.55,
          "xanchor": "left",
          "xref": "x",
          "y": 10,
          "yref": "y"
         },
         {
          "align": "left",
          "font": {
           "color": "#000000"
          },
          "showarrow": false,
          "text": "4",
          "x": 1.55,
          "xanchor": "left",
          "xref": "x",
          "y": 10,
          "yref": "y"
         },
         {
          "align": "left",
          "font": {
           "color": "#000000"
          },
          "showarrow": false,
          "text": "4",
          "x": 2.55,
          "xanchor": "left",
          "xref": "x",
          "y": 10,
          "yref": "y"
         },
         {
          "align": "left",
          "font": {
           "color": "#000000"
          },
          "showarrow": false,
          "text": "5",
          "x": 3.55,
          "xanchor": "left",
          "xref": "x",
          "y": 10,
          "yref": "y"
         },
         {
          "align": "left",
          "font": {
           "color": "#ffffff"
          },
          "showarrow": false,
          "text": "<b>bathtubShower</b>",
          "x": -0.45,
          "xanchor": "left",
          "xref": "x",
          "y": 11,
          "yref": "y"
         },
         {
          "align": "left",
          "font": {
           "color": "#000000"
          },
          "showarrow": false,
          "text": "1",
          "x": 0.55,
          "xanchor": "left",
          "xref": "x",
          "y": 11,
          "yref": "y"
         },
         {
          "align": "left",
          "font": {
           "color": "#000000"
          },
          "showarrow": false,
          "text": "4",
          "x": 1.55,
          "xanchor": "left",
          "xref": "x",
          "y": 11,
          "yref": "y"
         },
         {
          "align": "left",
          "font": {
           "color": "#000000"
          },
          "showarrow": false,
          "text": "4",
          "x": 2.55,
          "xanchor": "left",
          "xref": "x",
          "y": 11,
          "yref": "y"
         },
         {
          "align": "left",
          "font": {
           "color": "#000000"
          },
          "showarrow": false,
          "text": "5",
          "x": 3.55,
          "xanchor": "left",
          "xref": "x",
          "y": 11,
          "yref": "y"
         },
         {
          "align": "left",
          "font": {
           "color": "#ffffff"
          },
          "showarrow": false,
          "text": "<b>walkingWheelchair</b>",
          "x": -0.45,
          "xanchor": "left",
          "xref": "x",
          "y": 12,
          "yref": "y"
         },
         {
          "align": "left",
          "font": {
           "color": "#000000"
          },
          "showarrow": false,
          "text": "1",
          "x": 0.55,
          "xanchor": "left",
          "xref": "x",
          "y": 12,
          "yref": "y"
         },
         {
          "align": "left",
          "font": {
           "color": "#000000"
          },
          "showarrow": false,
          "text": "4",
          "x": 1.55,
          "xanchor": "left",
          "xref": "x",
          "y": 12,
          "yref": "y"
         },
         {
          "align": "left",
          "font": {
           "color": "#000000"
          },
          "showarrow": false,
          "text": "4",
          "x": 2.55,
          "xanchor": "left",
          "xref": "x",
          "y": 12,
          "yref": "y"
         },
         {
          "align": "left",
          "font": {
           "color": "#000000"
          },
          "showarrow": false,
          "text": "5",
          "x": 3.55,
          "xanchor": "left",
          "xref": "x",
          "y": 12,
          "yref": "y"
         },
         {
          "align": "left",
          "font": {
           "color": "#ffffff"
          },
          "showarrow": false,
          "text": "<b>stairs</b>",
          "x": -0.45,
          "xanchor": "left",
          "xref": "x",
          "y": 13,
          "yref": "y"
         },
         {
          "align": "left",
          "font": {
           "color": "#000000"
          },
          "showarrow": false,
          "text": "0",
          "x": 0.55,
          "xanchor": "left",
          "xref": "x",
          "y": 13,
          "yref": "y"
         },
         {
          "align": "left",
          "font": {
           "color": "#000000"
          },
          "showarrow": false,
          "text": "4",
          "x": 1.55,
          "xanchor": "left",
          "xref": "x",
          "y": 13,
          "yref": "y"
         },
         {
          "align": "left",
          "font": {
           "color": "#000000"
          },
          "showarrow": false,
          "text": "4",
          "x": 2.55,
          "xanchor": "left",
          "xref": "x",
          "y": 13,
          "yref": "y"
         },
         {
          "align": "left",
          "font": {
           "color": "#000000"
          },
          "showarrow": false,
          "text": "5",
          "x": 3.55,
          "xanchor": "left",
          "xref": "x",
          "y": 13,
          "yref": "y"
         },
         {
          "align": "left",
          "font": {
           "color": "#ffffff"
          },
          "showarrow": false,
          "text": "<b>understanding</b>",
          "x": -0.45,
          "xanchor": "left",
          "xref": "x",
          "y": 14,
          "yref": "y"
         },
         {
          "align": "left",
          "font": {
           "color": "#000000"
          },
          "showarrow": false,
          "text": "3",
          "x": 0.55,
          "xanchor": "left",
          "xref": "x",
          "y": 14,
          "yref": "y"
         },
         {
          "align": "left",
          "font": {
           "color": "#000000"
          },
          "showarrow": false,
          "text": "4",
          "x": 1.55,
          "xanchor": "left",
          "xref": "x",
          "y": 14,
          "yref": "y"
         },
         {
          "align": "left",
          "font": {
           "color": "#000000"
          },
          "showarrow": false,
          "text": "4",
          "x": 2.55,
          "xanchor": "left",
          "xref": "x",
          "y": 14,
          "yref": "y"
         },
         {
          "align": "left",
          "font": {
           "color": "#000000"
          },
          "showarrow": false,
          "text": "5",
          "x": 3.55,
          "xanchor": "left",
          "xref": "x",
          "y": 14,
          "yref": "y"
         },
         {
          "align": "left",
          "font": {
           "color": "#ffffff"
          },
          "showarrow": false,
          "text": "<b>expression</b>",
          "x": -0.45,
          "xanchor": "left",
          "xref": "x",
          "y": 15,
          "yref": "y"
         },
         {
          "align": "left",
          "font": {
           "color": "#000000"
          },
          "showarrow": false,
          "text": "3",
          "x": 0.55,
          "xanchor": "left",
          "xref": "x",
          "y": 15,
          "yref": "y"
         },
         {
          "align": "left",
          "font": {
           "color": "#000000"
          },
          "showarrow": false,
          "text": "4",
          "x": 1.55,
          "xanchor": "left",
          "xref": "x",
          "y": 15,
          "yref": "y"
         },
         {
          "align": "left",
          "font": {
           "color": "#000000"
          },
          "showarrow": false,
          "text": "5",
          "x": 2.55,
          "xanchor": "left",
          "xref": "x",
          "y": 15,
          "yref": "y"
         },
         {
          "align": "left",
          "font": {
           "color": "#000000"
          },
          "showarrow": false,
          "text": "5",
          "x": 3.55,
          "xanchor": "left",
          "xref": "x",
          "y": 15,
          "yref": "y"
         },
         {
          "align": "left",
          "font": {
           "color": "#ffffff"
          },
          "showarrow": false,
          "text": "<b>socialCommunication</b>",
          "x": -0.45,
          "xanchor": "left",
          "xref": "x",
          "y": 16,
          "yref": "y"
         },
         {
          "align": "left",
          "font": {
           "color": "#000000"
          },
          "showarrow": false,
          "text": "4",
          "x": 0.55,
          "xanchor": "left",
          "xref": "x",
          "y": 16,
          "yref": "y"
         },
         {
          "align": "left",
          "font": {
           "color": "#000000"
          },
          "showarrow": false,
          "text": "4",
          "x": 1.55,
          "xanchor": "left",
          "xref": "x",
          "y": 16,
          "yref": "y"
         },
         {
          "align": "left",
          "font": {
           "color": "#000000"
          },
          "showarrow": false,
          "text": "4",
          "x": 2.55,
          "xanchor": "left",
          "xref": "x",
          "y": 16,
          "yref": "y"
         },
         {
          "align": "left",
          "font": {
           "color": "#000000"
          },
          "showarrow": false,
          "text": "5",
          "x": 3.55,
          "xanchor": "left",
          "xref": "x",
          "y": 16,
          "yref": "y"
         },
         {
          "align": "left",
          "font": {
           "color": "#ffffff"
          },
          "showarrow": false,
          "text": "<b>problemSolving</b>",
          "x": -0.45,
          "xanchor": "left",
          "xref": "x",
          "y": 17,
          "yref": "y"
         },
         {
          "align": "left",
          "font": {
           "color": "#000000"
          },
          "showarrow": false,
          "text": "3",
          "x": 0.55,
          "xanchor": "left",
          "xref": "x",
          "y": 17,
          "yref": "y"
         },
         {
          "align": "left",
          "font": {
           "color": "#000000"
          },
          "showarrow": false,
          "text": "4",
          "x": 1.55,
          "xanchor": "left",
          "xref": "x",
          "y": 17,
          "yref": "y"
         },
         {
          "align": "left",
          "font": {
           "color": "#000000"
          },
          "showarrow": false,
          "text": "4",
          "x": 2.55,
          "xanchor": "left",
          "xref": "x",
          "y": 17,
          "yref": "y"
         },
         {
          "align": "left",
          "font": {
           "color": "#000000"
          },
          "showarrow": false,
          "text": "5",
          "x": 3.55,
          "xanchor": "left",
          "xref": "x",
          "y": 17,
          "yref": "y"
         },
         {
          "align": "left",
          "font": {
           "color": "#ffffff"
          },
          "showarrow": false,
          "text": "<b>memory</b>",
          "x": -0.45,
          "xanchor": "left",
          "xref": "x",
          "y": 18,
          "yref": "y"
         },
         {
          "align": "left",
          "font": {
           "color": "#000000"
          },
          "showarrow": false,
          "text": "3",
          "x": 0.55,
          "xanchor": "left",
          "xref": "x",
          "y": 18,
          "yref": "y"
         },
         {
          "align": "left",
          "font": {
           "color": "#000000"
          },
          "showarrow": false,
          "text": "4",
          "x": 1.55,
          "xanchor": "left",
          "xref": "x",
          "y": 18,
          "yref": "y"
         },
         {
          "align": "left",
          "font": {
           "color": "#000000"
          },
          "showarrow": false,
          "text": "4",
          "x": 2.55,
          "xanchor": "left",
          "xref": "x",
          "y": 18,
          "yref": "y"
         },
         {
          "align": "left",
          "font": {
           "color": "#000000"
          },
          "showarrow": false,
          "text": "5",
          "x": 3.55,
          "xanchor": "left",
          "xref": "x",
          "y": 18,
          "yref": "y"
         }
        ],
        "height": 1190,
        "margin": {
         "b": 0,
         "l": 0,
         "r": 0,
         "t": 0
        },
        "template": {
         "data": {
          "bar": [
           {
            "error_x": {
             "color": "#2a3f5f"
            },
            "error_y": {
             "color": "#2a3f5f"
            },
            "marker": {
             "line": {
              "color": "#E5ECF6",
              "width": 0.5
             }
            },
            "type": "bar"
           }
          ],
          "barpolar": [
           {
            "marker": {
             "line": {
              "color": "#E5ECF6",
              "width": 0.5
             }
            },
            "type": "barpolar"
           }
          ],
          "carpet": [
           {
            "aaxis": {
             "endlinecolor": "#2a3f5f",
             "gridcolor": "white",
             "linecolor": "white",
             "minorgridcolor": "white",
             "startlinecolor": "#2a3f5f"
            },
            "baxis": {
             "endlinecolor": "#2a3f5f",
             "gridcolor": "white",
             "linecolor": "white",
             "minorgridcolor": "white",
             "startlinecolor": "#2a3f5f"
            },
            "type": "carpet"
           }
          ],
          "choropleth": [
           {
            "colorbar": {
             "outlinewidth": 0,
             "ticks": ""
            },
            "type": "choropleth"
           }
          ],
          "contour": [
           {
            "colorbar": {
             "outlinewidth": 0,
             "ticks": ""
            },
            "colorscale": [
             [
              0,
              "#0d0887"
             ],
             [
              0.1111111111111111,
              "#46039f"
             ],
             [
              0.2222222222222222,
              "#7201a8"
             ],
             [
              0.3333333333333333,
              "#9c179e"
             ],
             [
              0.4444444444444444,
              "#bd3786"
             ],
             [
              0.5555555555555556,
              "#d8576b"
             ],
             [
              0.6666666666666666,
              "#ed7953"
             ],
             [
              0.7777777777777778,
              "#fb9f3a"
             ],
             [
              0.8888888888888888,
              "#fdca26"
             ],
             [
              1,
              "#f0f921"
             ]
            ],
            "type": "contour"
           }
          ],
          "contourcarpet": [
           {
            "colorbar": {
             "outlinewidth": 0,
             "ticks": ""
            },
            "type": "contourcarpet"
           }
          ],
          "heatmap": [
           {
            "colorbar": {
             "outlinewidth": 0,
             "ticks": ""
            },
            "colorscale": [
             [
              0,
              "#0d0887"
             ],
             [
              0.1111111111111111,
              "#46039f"
             ],
             [
              0.2222222222222222,
              "#7201a8"
             ],
             [
              0.3333333333333333,
              "#9c179e"
             ],
             [
              0.4444444444444444,
              "#bd3786"
             ],
             [
              0.5555555555555556,
              "#d8576b"
             ],
             [
              0.6666666666666666,
              "#ed7953"
             ],
             [
              0.7777777777777778,
              "#fb9f3a"
             ],
             [
              0.8888888888888888,
              "#fdca26"
             ],
             [
              1,
              "#f0f921"
             ]
            ],
            "type": "heatmap"
           }
          ],
          "heatmapgl": [
           {
            "colorbar": {
             "outlinewidth": 0,
             "ticks": ""
            },
            "colorscale": [
             [
              0,
              "#0d0887"
             ],
             [
              0.1111111111111111,
              "#46039f"
             ],
             [
              0.2222222222222222,
              "#7201a8"
             ],
             [
              0.3333333333333333,
              "#9c179e"
             ],
             [
              0.4444444444444444,
              "#bd3786"
             ],
             [
              0.5555555555555556,
              "#d8576b"
             ],
             [
              0.6666666666666666,
              "#ed7953"
             ],
             [
              0.7777777777777778,
              "#fb9f3a"
             ],
             [
              0.8888888888888888,
              "#fdca26"
             ],
             [
              1,
              "#f0f921"
             ]
            ],
            "type": "heatmapgl"
           }
          ],
          "histogram": [
           {
            "marker": {
             "colorbar": {
              "outlinewidth": 0,
              "ticks": ""
             }
            },
            "type": "histogram"
           }
          ],
          "histogram2d": [
           {
            "colorbar": {
             "outlinewidth": 0,
             "ticks": ""
            },
            "colorscale": [
             [
              0,
              "#0d0887"
             ],
             [
              0.1111111111111111,
              "#46039f"
             ],
             [
              0.2222222222222222,
              "#7201a8"
             ],
             [
              0.3333333333333333,
              "#9c179e"
             ],
             [
              0.4444444444444444,
              "#bd3786"
             ],
             [
              0.5555555555555556,
              "#d8576b"
             ],
             [
              0.6666666666666666,
              "#ed7953"
             ],
             [
              0.7777777777777778,
              "#fb9f3a"
             ],
             [
              0.8888888888888888,
              "#fdca26"
             ],
             [
              1,
              "#f0f921"
             ]
            ],
            "type": "histogram2d"
           }
          ],
          "histogram2dcontour": [
           {
            "colorbar": {
             "outlinewidth": 0,
             "ticks": ""
            },
            "colorscale": [
             [
              0,
              "#0d0887"
             ],
             [
              0.1111111111111111,
              "#46039f"
             ],
             [
              0.2222222222222222,
              "#7201a8"
             ],
             [
              0.3333333333333333,
              "#9c179e"
             ],
             [
              0.4444444444444444,
              "#bd3786"
             ],
             [
              0.5555555555555556,
              "#d8576b"
             ],
             [
              0.6666666666666666,
              "#ed7953"
             ],
             [
              0.7777777777777778,
              "#fb9f3a"
             ],
             [
              0.8888888888888888,
              "#fdca26"
             ],
             [
              1,
              "#f0f921"
             ]
            ],
            "type": "histogram2dcontour"
           }
          ],
          "mesh3d": [
           {
            "colorbar": {
             "outlinewidth": 0,
             "ticks": ""
            },
            "type": "mesh3d"
           }
          ],
          "parcoords": [
           {
            "line": {
             "colorbar": {
              "outlinewidth": 0,
              "ticks": ""
             }
            },
            "type": "parcoords"
           }
          ],
          "pie": [
           {
            "automargin": true,
            "type": "pie"
           }
          ],
          "scatter": [
           {
            "marker": {
             "colorbar": {
              "outlinewidth": 0,
              "ticks": ""
             }
            },
            "type": "scatter"
           }
          ],
          "scatter3d": [
           {
            "line": {
             "colorbar": {
              "outlinewidth": 0,
              "ticks": ""
             }
            },
            "marker": {
             "colorbar": {
              "outlinewidth": 0,
              "ticks": ""
             }
            },
            "type": "scatter3d"
           }
          ],
          "scattercarpet": [
           {
            "marker": {
             "colorbar": {
              "outlinewidth": 0,
              "ticks": ""
             }
            },
            "type": "scattercarpet"
           }
          ],
          "scattergeo": [
           {
            "marker": {
             "colorbar": {
              "outlinewidth": 0,
              "ticks": ""
             }
            },
            "type": "scattergeo"
           }
          ],
          "scattergl": [
           {
            "marker": {
             "colorbar": {
              "outlinewidth": 0,
              "ticks": ""
             }
            },
            "type": "scattergl"
           }
          ],
          "scattermapbox": [
           {
            "marker": {
             "colorbar": {
              "outlinewidth": 0,
              "ticks": ""
             }
            },
            "type": "scattermapbox"
           }
          ],
          "scatterpolar": [
           {
            "marker": {
             "colorbar": {
              "outlinewidth": 0,
              "ticks": ""
             }
            },
            "type": "scatterpolar"
           }
          ],
          "scatterpolargl": [
           {
            "marker": {
             "colorbar": {
              "outlinewidth": 0,
              "ticks": ""
             }
            },
            "type": "scatterpolargl"
           }
          ],
          "scatterternary": [
           {
            "marker": {
             "colorbar": {
              "outlinewidth": 0,
              "ticks": ""
             }
            },
            "type": "scatterternary"
           }
          ],
          "surface": [
           {
            "colorbar": {
             "outlinewidth": 0,
             "ticks": ""
            },
            "colorscale": [
             [
              0,
              "#0d0887"
             ],
             [
              0.1111111111111111,
              "#46039f"
             ],
             [
              0.2222222222222222,
              "#7201a8"
             ],
             [
              0.3333333333333333,
              "#9c179e"
             ],
             [
              0.4444444444444444,
              "#bd3786"
             ],
             [
              0.5555555555555556,
              "#d8576b"
             ],
             [
              0.6666666666666666,
              "#ed7953"
             ],
             [
              0.7777777777777778,
              "#fb9f3a"
             ],
             [
              0.8888888888888888,
              "#fdca26"
             ],
             [
              1,
              "#f0f921"
             ]
            ],
            "type": "surface"
           }
          ],
          "table": [
           {
            "cells": {
             "fill": {
              "color": "#EBF0F8"
             },
             "line": {
              "color": "white"
             }
            },
            "header": {
             "fill": {
              "color": "#C8D4E3"
             },
             "line": {
              "color": "white"
             }
            },
            "type": "table"
           }
          ]
         },
         "layout": {
          "annotationdefaults": {
           "arrowcolor": "#2a3f5f",
           "arrowhead": 0,
           "arrowwidth": 1
          },
          "coloraxis": {
           "colorbar": {
            "outlinewidth": 0,
            "ticks": ""
           }
          },
          "colorscale": {
           "diverging": [
            [
             0,
             "#8e0152"
            ],
            [
             0.1,
             "#c51b7d"
            ],
            [
             0.2,
             "#de77ae"
            ],
            [
             0.3,
             "#f1b6da"
            ],
            [
             0.4,
             "#fde0ef"
            ],
            [
             0.5,
             "#f7f7f7"
            ],
            [
             0.6,
             "#e6f5d0"
            ],
            [
             0.7,
             "#b8e186"
            ],
            [
             0.8,
             "#7fbc41"
            ],
            [
             0.9,
             "#4d9221"
            ],
            [
             1,
             "#276419"
            ]
           ],
           "sequential": [
            [
             0,
             "#0d0887"
            ],
            [
             0.1111111111111111,
             "#46039f"
            ],
            [
             0.2222222222222222,
             "#7201a8"
            ],
            [
             0.3333333333333333,
             "#9c179e"
            ],
            [
             0.4444444444444444,
             "#bd3786"
            ],
            [
             0.5555555555555556,
             "#d8576b"
            ],
            [
             0.6666666666666666,
             "#ed7953"
            ],
            [
             0.7777777777777778,
             "#fb9f3a"
            ],
            [
             0.8888888888888888,
             "#fdca26"
            ],
            [
             1,
             "#f0f921"
            ]
           ],
           "sequentialminus": [
            [
             0,
             "#0d0887"
            ],
            [
             0.1111111111111111,
             "#46039f"
            ],
            [
             0.2222222222222222,
             "#7201a8"
            ],
            [
             0.3333333333333333,
             "#9c179e"
            ],
            [
             0.4444444444444444,
             "#bd3786"
            ],
            [
             0.5555555555555556,
             "#d8576b"
            ],
            [
             0.6666666666666666,
             "#ed7953"
            ],
            [
             0.7777777777777778,
             "#fb9f3a"
            ],
            [
             0.8888888888888888,
             "#fdca26"
            ],
            [
             1,
             "#f0f921"
            ]
           ]
          },
          "colorway": [
           "#636efa",
           "#EF553B",
           "#00cc96",
           "#ab63fa",
           "#FFA15A",
           "#19d3f3",
           "#FF6692",
           "#B6E880",
           "#FF97FF",
           "#FECB52"
          ],
          "font": {
           "color": "#2a3f5f"
          },
          "geo": {
           "bgcolor": "white",
           "lakecolor": "white",
           "landcolor": "#E5ECF6",
           "showlakes": true,
           "showland": true,
           "subunitcolor": "white"
          },
          "hoverlabel": {
           "align": "left"
          },
          "hovermode": "closest",
          "mapbox": {
           "style": "light"
          },
          "paper_bgcolor": "white",
          "plot_bgcolor": "#E5ECF6",
          "polar": {
           "angularaxis": {
            "gridcolor": "white",
            "linecolor": "white",
            "ticks": ""
           },
           "bgcolor": "#E5ECF6",
           "radialaxis": {
            "gridcolor": "white",
            "linecolor": "white",
            "ticks": ""
           }
          },
          "scene": {
           "xaxis": {
            "backgroundcolor": "#E5ECF6",
            "gridcolor": "white",
            "gridwidth": 2,
            "linecolor": "white",
            "showbackground": true,
            "ticks": "",
            "zerolinecolor": "white"
           },
           "yaxis": {
            "backgroundcolor": "#E5ECF6",
            "gridcolor": "white",
            "gridwidth": 2,
            "linecolor": "white",
            "showbackground": true,
            "ticks": "",
            "zerolinecolor": "white"
           },
           "zaxis": {
            "backgroundcolor": "#E5ECF6",
            "gridcolor": "white",
            "gridwidth": 2,
            "linecolor": "white",
            "showbackground": true,
            "ticks": "",
            "zerolinecolor": "white"
           }
          },
          "shapedefaults": {
           "line": {
            "color": "#2a3f5f"
           }
          },
          "ternary": {
           "aaxis": {
            "gridcolor": "white",
            "linecolor": "white",
            "ticks": ""
           },
           "baxis": {
            "gridcolor": "white",
            "linecolor": "white",
            "ticks": ""
           },
           "bgcolor": "#E5ECF6",
           "caxis": {
            "gridcolor": "white",
            "linecolor": "white",
            "ticks": ""
           }
          },
          "title": {
           "x": 0.05
          },
          "xaxis": {
           "automargin": true,
           "gridcolor": "white",
           "linecolor": "white",
           "ticks": "",
           "title": {
            "standoff": 15
           },
           "zerolinecolor": "white",
           "zerolinewidth": 2
          },
          "yaxis": {
           "automargin": true,
           "gridcolor": "white",
           "linecolor": "white",
           "ticks": "",
           "title": {
            "standoff": 15
           },
           "zerolinecolor": "white",
           "zerolinewidth": 2
          }
         }
        },
        "width": 250,
        "xaxis": {
         "dtick": 1,
         "gridwidth": 2,
         "showticklabels": false,
         "tick0": -0.5,
         "ticks": "",
         "zeroline": false
        },
        "yaxis": {
         "autorange": "reversed",
         "dtick": 1,
         "gridwidth": 2,
         "showticklabels": false,
         "tick0": 0.5,
         "ticks": "",
         "zeroline": false
        }
       }
      },
      "text/html": [
       "<div>\n",
       "        \n",
       "        \n",
       "            <div id=\"c60eaa9a-7fcd-4bd5-b5ff-e355a284fe27\" class=\"plotly-graph-div\" style=\"height:1190px; width:250px;\"></div>\n",
       "            <script type=\"text/javascript\">\n",
       "                require([\"plotly\"], function(Plotly) {\n",
       "                    window.PLOTLYENV=window.PLOTLYENV || {};\n",
       "                    \n",
       "                if (document.getElementById(\"c60eaa9a-7fcd-4bd5-b5ff-e355a284fe27\")) {\n",
       "                    Plotly.newPlot(\n",
       "                        'c60eaa9a-7fcd-4bd5-b5ff-e355a284fe27',\n",
       "                        [{\"colorscale\": [[0, \"#00083e\"], [0.5, \"#ededee\"], [1, \"#ffffff\"]], \"hoverinfo\": \"none\", \"opacity\": 0.75, \"showscale\": false, \"type\": \"heatmap\", \"z\": [[0, 0, 0, 0, 0], [0, 0.5, 0.5, 0.5, 0.5], [0, 1, 1, 1, 1], [0, 0.5, 0.5, 0.5, 0.5], [0, 1, 1, 1, 1], [0, 0.5, 0.5, 0.5, 0.5], [0, 1, 1, 1, 1], [0, 0.5, 0.5, 0.5, 0.5], [0, 1, 1, 1, 1], [0, 0.5, 0.5, 0.5, 0.5], [0, 1, 1, 1, 1], [0, 0.5, 0.5, 0.5, 0.5], [0, 1, 1, 1, 1], [0, 0.5, 0.5, 0.5, 0.5], [0, 1, 1, 1, 1], [0, 0.5, 0.5, 0.5, 0.5], [0, 1, 1, 1, 1], [0, 0.5, 0.5, 0.5, 0.5], [0, 1, 1, 1, 1]]}],\n",
       "                        {\"annotations\": [{\"align\": \"left\", \"font\": {\"color\": \"#ffffff\"}, \"showarrow\": false, \"text\": \"<b>FIM \\u9805\\u76ee</b>\", \"x\": -0.45, \"xanchor\": \"left\", \"xref\": \"x\", \"y\": 0, \"yref\": \"y\"}, {\"align\": \"left\", \"font\": {\"color\": \"#ffffff\"}, \"showarrow\": false, \"text\": \"<b>\\u73fe\\u5728</b>\", \"x\": 0.55, \"xanchor\": \"left\", \"xref\": \"x\", \"y\": 0, \"yref\": \"y\"}, {\"align\": \"left\", \"font\": {\"color\": \"#ffffff\"}, \"showarrow\": false, \"text\": \"<b>\\uff11\\u30f6\\u6708\\u5f8c\\u4e88\\u6e2c</b>\", \"x\": 1.55, \"xanchor\": \"left\", \"xref\": \"x\", \"y\": 0, \"yref\": \"y\"}, {\"align\": \"left\", \"font\": {\"color\": \"#ffffff\"}, \"showarrow\": false, \"text\": \"<b>2\\u30f6\\u6708\\u5f8c\\u4e88\\u6e2c</b>\", \"x\": 2.55, \"xanchor\": \"left\", \"xref\": \"x\", \"y\": 0, \"yref\": \"y\"}, {\"align\": \"left\", \"font\": {\"color\": \"#ffffff\"}, \"showarrow\": false, \"text\": \"<b>3\\u30f6\\u6708\\u5f8c\\u4e88\\u6e2c</b>\", \"x\": 3.55, \"xanchor\": \"left\", \"xref\": \"x\", \"y\": 0, \"yref\": \"y\"}, {\"align\": \"left\", \"font\": {\"color\": \"#ffffff\"}, \"showarrow\": false, \"text\": \"<b>meal</b>\", \"x\": -0.45, \"xanchor\": \"left\", \"xref\": \"x\", \"y\": 1, \"yref\": \"y\"}, {\"align\": \"left\", \"font\": {\"color\": \"#000000\"}, \"showarrow\": false, \"text\": \"2\", \"x\": 0.55, \"xanchor\": \"left\", \"xref\": \"x\", \"y\": 1, \"yref\": \"y\"}, {\"align\": \"left\", \"font\": {\"color\": \"#000000\"}, \"showarrow\": false, \"text\": \"4\", \"x\": 1.55, \"xanchor\": \"left\", \"xref\": \"x\", \"y\": 1, \"yref\": \"y\"}, {\"align\": \"left\", \"font\": {\"color\": \"#000000\"}, \"showarrow\": false, \"text\": \"5\", \"x\": 2.55, \"xanchor\": \"left\", \"xref\": \"x\", \"y\": 1, \"yref\": \"y\"}, {\"align\": \"left\", \"font\": {\"color\": \"#000000\"}, \"showarrow\": false, \"text\": \"5\", \"x\": 3.55, \"xanchor\": \"left\", \"xref\": \"x\", \"y\": 1, \"yref\": \"y\"}, {\"align\": \"left\", \"font\": {\"color\": \"#ffffff\"}, \"showarrow\": false, \"text\": \"<b>hygienic</b>\", \"x\": -0.45, \"xanchor\": \"left\", \"xref\": \"x\", \"y\": 2, \"yref\": \"y\"}, {\"align\": \"left\", \"font\": {\"color\": \"#000000\"}, \"showarrow\": false, \"text\": \"1\", \"x\": 0.55, \"xanchor\": \"left\", \"xref\": \"x\", \"y\": 2, \"yref\": \"y\"}, {\"align\": \"left\", \"font\": {\"color\": \"#000000\"}, \"showarrow\": false, \"text\": \"4\", \"x\": 1.55, \"xanchor\": \"left\", \"xref\": \"x\", \"y\": 2, \"yref\": \"y\"}, {\"align\": \"left\", \"font\": {\"color\": \"#000000\"}, \"showarrow\": false, \"text\": \"4\", \"x\": 2.55, \"xanchor\": \"left\", \"xref\": \"x\", \"y\": 2, \"yref\": \"y\"}, {\"align\": \"left\", \"font\": {\"color\": \"#000000\"}, \"showarrow\": false, \"text\": \"5\", \"x\": 3.55, \"xanchor\": \"left\", \"xref\": \"x\", \"y\": 2, \"yref\": \"y\"}, {\"align\": \"left\", \"font\": {\"color\": \"#ffffff\"}, \"showarrow\": false, \"text\": \"<b>wipingClean</b>\", \"x\": -0.45, \"xanchor\": \"left\", \"xref\": \"x\", \"y\": 3, \"yref\": \"y\"}, {\"align\": \"left\", \"font\": {\"color\": \"#000000\"}, \"showarrow\": false, \"text\": \"2\", \"x\": 0.55, \"xanchor\": \"left\", \"xref\": \"x\", \"y\": 3, \"yref\": \"y\"}, {\"align\": \"left\", \"font\": {\"color\": \"#000000\"}, \"showarrow\": false, \"text\": \"4\", \"x\": 1.55, \"xanchor\": \"left\", \"xref\": \"x\", \"y\": 3, \"yref\": \"y\"}, {\"align\": \"left\", \"font\": {\"color\": \"#000000\"}, \"showarrow\": false, \"text\": \"4\", \"x\": 2.55, \"xanchor\": \"left\", \"xref\": \"x\", \"y\": 3, \"yref\": \"y\"}, {\"align\": \"left\", \"font\": {\"color\": \"#000000\"}, \"showarrow\": false, \"text\": \"5\", \"x\": 3.55, \"xanchor\": \"left\", \"xref\": \"x\", \"y\": 3, \"yref\": \"y\"}, {\"align\": \"left\", \"font\": {\"color\": \"#ffffff\"}, \"showarrow\": false, \"text\": \"<b>upperBodyDressing</b>\", \"x\": -0.45, \"xanchor\": \"left\", \"xref\": \"x\", \"y\": 4, \"yref\": \"y\"}, {\"align\": \"left\", \"font\": {\"color\": \"#000000\"}, \"showarrow\": false, \"text\": \"2\", \"x\": 0.55, \"xanchor\": \"left\", \"xref\": \"x\", \"y\": 4, \"yref\": \"y\"}, {\"align\": \"left\", \"font\": {\"color\": \"#000000\"}, \"showarrow\": false, \"text\": \"4\", \"x\": 1.55, \"xanchor\": \"left\", \"xref\": \"x\", \"y\": 4, \"yref\": \"y\"}, {\"align\": \"left\", \"font\": {\"color\": \"#000000\"}, \"showarrow\": false, \"text\": \"4\", \"x\": 2.55, \"xanchor\": \"left\", \"xref\": \"x\", \"y\": 4, \"yref\": \"y\"}, {\"align\": \"left\", \"font\": {\"color\": \"#000000\"}, \"showarrow\": false, \"text\": \"5\", \"x\": 3.55, \"xanchor\": \"left\", \"xref\": \"x\", \"y\": 4, \"yref\": \"y\"}, {\"align\": \"left\", \"font\": {\"color\": \"#ffffff\"}, \"showarrow\": false, \"text\": \"<b>lowerBodyDressing</b>\", \"x\": -0.45, \"xanchor\": \"left\", \"xref\": \"x\", \"y\": 5, \"yref\": \"y\"}, {\"align\": \"left\", \"font\": {\"color\": \"#000000\"}, \"showarrow\": false, \"text\": \"2\", \"x\": 0.55, \"xanchor\": \"left\", \"xref\": \"x\", \"y\": 5, \"yref\": \"y\"}, {\"align\": \"left\", \"font\": {\"color\": \"#000000\"}, \"showarrow\": false, \"text\": \"4\", \"x\": 1.55, \"xanchor\": \"left\", \"xref\": \"x\", \"y\": 5, \"yref\": \"y\"}, {\"align\": \"left\", \"font\": {\"color\": \"#000000\"}, \"showarrow\": false, \"text\": \"4\", \"x\": 2.55, \"xanchor\": \"left\", \"xref\": \"x\", \"y\": 5, \"yref\": \"y\"}, {\"align\": \"left\", \"font\": {\"color\": \"#000000\"}, \"showarrow\": false, \"text\": \"5\", \"x\": 3.55, \"xanchor\": \"left\", \"xref\": \"x\", \"y\": 5, \"yref\": \"y\"}, {\"align\": \"left\", \"font\": {\"color\": \"#ffffff\"}, \"showarrow\": false, \"text\": \"<b>toiletAction</b>\", \"x\": -0.45, \"xanchor\": \"left\", \"xref\": \"x\", \"y\": 6, \"yref\": \"y\"}, {\"align\": \"left\", \"font\": {\"color\": \"#000000\"}, \"showarrow\": false, \"text\": \"1\", \"x\": 0.55, \"xanchor\": \"left\", \"xref\": \"x\", \"y\": 6, \"yref\": \"y\"}, {\"align\": \"left\", \"font\": {\"color\": \"#000000\"}, \"showarrow\": false, \"text\": \"4\", \"x\": 1.55, \"xanchor\": \"left\", \"xref\": \"x\", \"y\": 6, \"yref\": \"y\"}, {\"align\": \"left\", \"font\": {\"color\": \"#000000\"}, \"showarrow\": false, \"text\": \"4\", \"x\": 2.55, \"xanchor\": \"left\", \"xref\": \"x\", \"y\": 6, \"yref\": \"y\"}, {\"align\": \"left\", \"font\": {\"color\": \"#000000\"}, \"showarrow\": false, \"text\": \"5\", \"x\": 3.55, \"xanchor\": \"left\", \"xref\": \"x\", \"y\": 6, \"yref\": \"y\"}, {\"align\": \"left\", \"font\": {\"color\": \"#ffffff\"}, \"showarrow\": false, \"text\": \"<b>urinationControl</b>\", \"x\": -0.45, \"xanchor\": \"left\", \"xref\": \"x\", \"y\": 7, \"yref\": \"y\"}, {\"align\": \"left\", \"font\": {\"color\": \"#000000\"}, \"showarrow\": false, \"text\": \"3\", \"x\": 0.55, \"xanchor\": \"left\", \"xref\": \"x\", \"y\": 7, \"yref\": \"y\"}, {\"align\": \"left\", \"font\": {\"color\": \"#000000\"}, \"showarrow\": false, \"text\": \"4\", \"x\": 1.55, \"xanchor\": \"left\", \"xref\": \"x\", \"y\": 7, \"yref\": \"y\"}, {\"align\": \"left\", \"font\": {\"color\": \"#000000\"}, \"showarrow\": false, \"text\": \"4\", \"x\": 2.55, \"xanchor\": \"left\", \"xref\": \"x\", \"y\": 7, \"yref\": \"y\"}, {\"align\": \"left\", \"font\": {\"color\": \"#000000\"}, \"showarrow\": false, \"text\": \"5\", \"x\": 3.55, \"xanchor\": \"left\", \"xref\": \"x\", \"y\": 7, \"yref\": \"y\"}, {\"align\": \"left\", \"font\": {\"color\": \"#ffffff\"}, \"showarrow\": false, \"text\": \"<b>defecationControl</b>\", \"x\": -0.45, \"xanchor\": \"left\", \"xref\": \"x\", \"y\": 8, \"yref\": \"y\"}, {\"align\": \"left\", \"font\": {\"color\": \"#000000\"}, \"showarrow\": false, \"text\": \"3\", \"x\": 0.55, \"xanchor\": \"left\", \"xref\": \"x\", \"y\": 8, \"yref\": \"y\"}, {\"align\": \"left\", \"font\": {\"color\": \"#000000\"}, \"showarrow\": false, \"text\": \"4\", \"x\": 1.55, \"xanchor\": \"left\", \"xref\": \"x\", \"y\": 8, \"yref\": \"y\"}, {\"align\": \"left\", \"font\": {\"color\": \"#000000\"}, \"showarrow\": false, \"text\": \"4\", \"x\": 2.55, \"xanchor\": \"left\", \"xref\": \"x\", \"y\": 8, \"yref\": \"y\"}, {\"align\": \"left\", \"font\": {\"color\": \"#000000\"}, \"showarrow\": false, \"text\": \"5\", \"x\": 3.55, \"xanchor\": \"left\", \"xref\": \"x\", \"y\": 8, \"yref\": \"y\"}, {\"align\": \"left\", \"font\": {\"color\": \"#ffffff\"}, \"showarrow\": false, \"text\": \"<b>bedsChairsWheelchairs</b>\", \"x\": -0.45, \"xanchor\": \"left\", \"xref\": \"x\", \"y\": 9, \"yref\": \"y\"}, {\"align\": \"left\", \"font\": {\"color\": \"#000000\"}, \"showarrow\": false, \"text\": \"2\", \"x\": 0.55, \"xanchor\": \"left\", \"xref\": \"x\", \"y\": 9, \"yref\": \"y\"}, {\"align\": \"left\", \"font\": {\"color\": \"#000000\"}, \"showarrow\": false, \"text\": \"4\", \"x\": 1.55, \"xanchor\": \"left\", \"xref\": \"x\", \"y\": 9, \"yref\": \"y\"}, {\"align\": \"left\", \"font\": {\"color\": \"#000000\"}, \"showarrow\": false, \"text\": \"4\", \"x\": 2.55, \"xanchor\": \"left\", \"xref\": \"x\", \"y\": 9, \"yref\": \"y\"}, {\"align\": \"left\", \"font\": {\"color\": \"#000000\"}, \"showarrow\": false, \"text\": \"5\", \"x\": 3.55, \"xanchor\": \"left\", \"xref\": \"x\", \"y\": 9, \"yref\": \"y\"}, {\"align\": \"left\", \"font\": {\"color\": \"#ffffff\"}, \"showarrow\": false, \"text\": \"<b>toilet</b>\", \"x\": -0.45, \"xanchor\": \"left\", \"xref\": \"x\", \"y\": 10, \"yref\": \"y\"}, {\"align\": \"left\", \"font\": {\"color\": \"#000000\"}, \"showarrow\": false, \"text\": \"1\", \"x\": 0.55, \"xanchor\": \"left\", \"xref\": \"x\", \"y\": 10, \"yref\": \"y\"}, {\"align\": \"left\", \"font\": {\"color\": \"#000000\"}, \"showarrow\": false, \"text\": \"4\", \"x\": 1.55, \"xanchor\": \"left\", \"xref\": \"x\", \"y\": 10, \"yref\": \"y\"}, {\"align\": \"left\", \"font\": {\"color\": \"#000000\"}, \"showarrow\": false, \"text\": \"4\", \"x\": 2.55, \"xanchor\": \"left\", \"xref\": \"x\", \"y\": 10, \"yref\": \"y\"}, {\"align\": \"left\", \"font\": {\"color\": \"#000000\"}, \"showarrow\": false, \"text\": \"5\", \"x\": 3.55, \"xanchor\": \"left\", \"xref\": \"x\", \"y\": 10, \"yref\": \"y\"}, {\"align\": \"left\", \"font\": {\"color\": \"#ffffff\"}, \"showarrow\": false, \"text\": \"<b>bathtubShower</b>\", \"x\": -0.45, \"xanchor\": \"left\", \"xref\": \"x\", \"y\": 11, \"yref\": \"y\"}, {\"align\": \"left\", \"font\": {\"color\": \"#000000\"}, \"showarrow\": false, \"text\": \"1\", \"x\": 0.55, \"xanchor\": \"left\", \"xref\": \"x\", \"y\": 11, \"yref\": \"y\"}, {\"align\": \"left\", \"font\": {\"color\": \"#000000\"}, \"showarrow\": false, \"text\": \"4\", \"x\": 1.55, \"xanchor\": \"left\", \"xref\": \"x\", \"y\": 11, \"yref\": \"y\"}, {\"align\": \"left\", \"font\": {\"color\": \"#000000\"}, \"showarrow\": false, \"text\": \"4\", \"x\": 2.55, \"xanchor\": \"left\", \"xref\": \"x\", \"y\": 11, \"yref\": \"y\"}, {\"align\": \"left\", \"font\": {\"color\": \"#000000\"}, \"showarrow\": false, \"text\": \"5\", \"x\": 3.55, \"xanchor\": \"left\", \"xref\": \"x\", \"y\": 11, \"yref\": \"y\"}, {\"align\": \"left\", \"font\": {\"color\": \"#ffffff\"}, \"showarrow\": false, \"text\": \"<b>walkingWheelchair</b>\", \"x\": -0.45, \"xanchor\": \"left\", \"xref\": \"x\", \"y\": 12, \"yref\": \"y\"}, {\"align\": \"left\", \"font\": {\"color\": \"#000000\"}, \"showarrow\": false, \"text\": \"1\", \"x\": 0.55, \"xanchor\": \"left\", \"xref\": \"x\", \"y\": 12, \"yref\": \"y\"}, {\"align\": \"left\", \"font\": {\"color\": \"#000000\"}, \"showarrow\": false, \"text\": \"4\", \"x\": 1.55, \"xanchor\": \"left\", \"xref\": \"x\", \"y\": 12, \"yref\": \"y\"}, {\"align\": \"left\", \"font\": {\"color\": \"#000000\"}, \"showarrow\": false, \"text\": \"4\", \"x\": 2.55, \"xanchor\": \"left\", \"xref\": \"x\", \"y\": 12, \"yref\": \"y\"}, {\"align\": \"left\", \"font\": {\"color\": \"#000000\"}, \"showarrow\": false, \"text\": \"5\", \"x\": 3.55, \"xanchor\": \"left\", \"xref\": \"x\", \"y\": 12, \"yref\": \"y\"}, {\"align\": \"left\", \"font\": {\"color\": \"#ffffff\"}, \"showarrow\": false, \"text\": \"<b>stairs</b>\", \"x\": -0.45, \"xanchor\": \"left\", \"xref\": \"x\", \"y\": 13, \"yref\": \"y\"}, {\"align\": \"left\", \"font\": {\"color\": \"#000000\"}, \"showarrow\": false, \"text\": \"0\", \"x\": 0.55, \"xanchor\": \"left\", \"xref\": \"x\", \"y\": 13, \"yref\": \"y\"}, {\"align\": \"left\", \"font\": {\"color\": \"#000000\"}, \"showarrow\": false, \"text\": \"4\", \"x\": 1.55, \"xanchor\": \"left\", \"xref\": \"x\", \"y\": 13, \"yref\": \"y\"}, {\"align\": \"left\", \"font\": {\"color\": \"#000000\"}, \"showarrow\": false, \"text\": \"4\", \"x\": 2.55, \"xanchor\": \"left\", \"xref\": \"x\", \"y\": 13, \"yref\": \"y\"}, {\"align\": \"left\", \"font\": {\"color\": \"#000000\"}, \"showarrow\": false, \"text\": \"5\", \"x\": 3.55, \"xanchor\": \"left\", \"xref\": \"x\", \"y\": 13, \"yref\": \"y\"}, {\"align\": \"left\", \"font\": {\"color\": \"#ffffff\"}, \"showarrow\": false, \"text\": \"<b>understanding</b>\", \"x\": -0.45, \"xanchor\": \"left\", \"xref\": \"x\", \"y\": 14, \"yref\": \"y\"}, {\"align\": \"left\", \"font\": {\"color\": \"#000000\"}, \"showarrow\": false, \"text\": \"3\", \"x\": 0.55, \"xanchor\": \"left\", \"xref\": \"x\", \"y\": 14, \"yref\": \"y\"}, {\"align\": \"left\", \"font\": {\"color\": \"#000000\"}, \"showarrow\": false, \"text\": \"4\", \"x\": 1.55, \"xanchor\": \"left\", \"xref\": \"x\", \"y\": 14, \"yref\": \"y\"}, {\"align\": \"left\", \"font\": {\"color\": \"#000000\"}, \"showarrow\": false, \"text\": \"4\", \"x\": 2.55, \"xanchor\": \"left\", \"xref\": \"x\", \"y\": 14, \"yref\": \"y\"}, {\"align\": \"left\", \"font\": {\"color\": \"#000000\"}, \"showarrow\": false, \"text\": \"5\", \"x\": 3.55, \"xanchor\": \"left\", \"xref\": \"x\", \"y\": 14, \"yref\": \"y\"}, {\"align\": \"left\", \"font\": {\"color\": \"#ffffff\"}, \"showarrow\": false, \"text\": \"<b>expression</b>\", \"x\": -0.45, \"xanchor\": \"left\", \"xref\": \"x\", \"y\": 15, \"yref\": \"y\"}, {\"align\": \"left\", \"font\": {\"color\": \"#000000\"}, \"showarrow\": false, \"text\": \"3\", \"x\": 0.55, \"xanchor\": \"left\", \"xref\": \"x\", \"y\": 15, \"yref\": \"y\"}, {\"align\": \"left\", \"font\": {\"color\": \"#000000\"}, \"showarrow\": false, \"text\": \"4\", \"x\": 1.55, \"xanchor\": \"left\", \"xref\": \"x\", \"y\": 15, \"yref\": \"y\"}, {\"align\": \"left\", \"font\": {\"color\": \"#000000\"}, \"showarrow\": false, \"text\": \"5\", \"x\": 2.55, \"xanchor\": \"left\", \"xref\": \"x\", \"y\": 15, \"yref\": \"y\"}, {\"align\": \"left\", \"font\": {\"color\": \"#000000\"}, \"showarrow\": false, \"text\": \"5\", \"x\": 3.55, \"xanchor\": \"left\", \"xref\": \"x\", \"y\": 15, \"yref\": \"y\"}, {\"align\": \"left\", \"font\": {\"color\": \"#ffffff\"}, \"showarrow\": false, \"text\": \"<b>socialCommunication</b>\", \"x\": -0.45, \"xanchor\": \"left\", \"xref\": \"x\", \"y\": 16, \"yref\": \"y\"}, {\"align\": \"left\", \"font\": {\"color\": \"#000000\"}, \"showarrow\": false, \"text\": \"4\", \"x\": 0.55, \"xanchor\": \"left\", \"xref\": \"x\", \"y\": 16, \"yref\": \"y\"}, {\"align\": \"left\", \"font\": {\"color\": \"#000000\"}, \"showarrow\": false, \"text\": \"4\", \"x\": 1.55, \"xanchor\": \"left\", \"xref\": \"x\", \"y\": 16, \"yref\": \"y\"}, {\"align\": \"left\", \"font\": {\"color\": \"#000000\"}, \"showarrow\": false, \"text\": \"4\", \"x\": 2.55, \"xanchor\": \"left\", \"xref\": \"x\", \"y\": 16, \"yref\": \"y\"}, {\"align\": \"left\", \"font\": {\"color\": \"#000000\"}, \"showarrow\": false, \"text\": \"5\", \"x\": 3.55, \"xanchor\": \"left\", \"xref\": \"x\", \"y\": 16, \"yref\": \"y\"}, {\"align\": \"left\", \"font\": {\"color\": \"#ffffff\"}, \"showarrow\": false, \"text\": \"<b>problemSolving</b>\", \"x\": -0.45, \"xanchor\": \"left\", \"xref\": \"x\", \"y\": 17, \"yref\": \"y\"}, {\"align\": \"left\", \"font\": {\"color\": \"#000000\"}, \"showarrow\": false, \"text\": \"3\", \"x\": 0.55, \"xanchor\": \"left\", \"xref\": \"x\", \"y\": 17, \"yref\": \"y\"}, {\"align\": \"left\", \"font\": {\"color\": \"#000000\"}, \"showarrow\": false, \"text\": \"4\", \"x\": 1.55, \"xanchor\": \"left\", \"xref\": \"x\", \"y\": 17, \"yref\": \"y\"}, {\"align\": \"left\", \"font\": {\"color\": \"#000000\"}, \"showarrow\": false, \"text\": \"4\", \"x\": 2.55, \"xanchor\": \"left\", \"xref\": \"x\", \"y\": 17, \"yref\": \"y\"}, {\"align\": \"left\", \"font\": {\"color\": \"#000000\"}, \"showarrow\": false, \"text\": \"5\", \"x\": 3.55, \"xanchor\": \"left\", \"xref\": \"x\", \"y\": 17, \"yref\": \"y\"}, {\"align\": \"left\", \"font\": {\"color\": \"#ffffff\"}, \"showarrow\": false, \"text\": \"<b>memory</b>\", \"x\": -0.45, \"xanchor\": \"left\", \"xref\": \"x\", \"y\": 18, \"yref\": \"y\"}, {\"align\": \"left\", \"font\": {\"color\": \"#000000\"}, \"showarrow\": false, \"text\": \"3\", \"x\": 0.55, \"xanchor\": \"left\", \"xref\": \"x\", \"y\": 18, \"yref\": \"y\"}, {\"align\": \"left\", \"font\": {\"color\": \"#000000\"}, \"showarrow\": false, \"text\": \"4\", \"x\": 1.55, \"xanchor\": \"left\", \"xref\": \"x\", \"y\": 18, \"yref\": \"y\"}, {\"align\": \"left\", \"font\": {\"color\": \"#000000\"}, \"showarrow\": false, \"text\": \"4\", \"x\": 2.55, \"xanchor\": \"left\", \"xref\": \"x\", \"y\": 18, \"yref\": \"y\"}, {\"align\": \"left\", \"font\": {\"color\": \"#000000\"}, \"showarrow\": false, \"text\": \"5\", \"x\": 3.55, \"xanchor\": \"left\", \"xref\": \"x\", \"y\": 18, \"yref\": \"y\"}], \"height\": 1190, \"margin\": {\"b\": 0, \"l\": 0, \"r\": 0, \"t\": 0}, \"template\": {\"data\": {\"bar\": [{\"error_x\": {\"color\": \"#2a3f5f\"}, \"error_y\": {\"color\": \"#2a3f5f\"}, \"marker\": {\"line\": {\"color\": \"#E5ECF6\", \"width\": 0.5}}, \"type\": \"bar\"}], \"barpolar\": [{\"marker\": {\"line\": {\"color\": \"#E5ECF6\", \"width\": 0.5}}, \"type\": \"barpolar\"}], \"carpet\": [{\"aaxis\": {\"endlinecolor\": \"#2a3f5f\", \"gridcolor\": \"white\", \"linecolor\": \"white\", \"minorgridcolor\": \"white\", \"startlinecolor\": \"#2a3f5f\"}, \"baxis\": {\"endlinecolor\": \"#2a3f5f\", \"gridcolor\": \"white\", \"linecolor\": \"white\", \"minorgridcolor\": \"white\", \"startlinecolor\": \"#2a3f5f\"}, \"type\": \"carpet\"}], \"choropleth\": [{\"colorbar\": {\"outlinewidth\": 0, \"ticks\": \"\"}, \"type\": \"choropleth\"}], \"contour\": [{\"colorbar\": {\"outlinewidth\": 0, \"ticks\": \"\"}, \"colorscale\": [[0.0, \"#0d0887\"], [0.1111111111111111, \"#46039f\"], [0.2222222222222222, \"#7201a8\"], [0.3333333333333333, \"#9c179e\"], [0.4444444444444444, \"#bd3786\"], [0.5555555555555556, \"#d8576b\"], [0.6666666666666666, \"#ed7953\"], [0.7777777777777778, \"#fb9f3a\"], [0.8888888888888888, \"#fdca26\"], [1.0, \"#f0f921\"]], \"type\": \"contour\"}], \"contourcarpet\": [{\"colorbar\": {\"outlinewidth\": 0, \"ticks\": \"\"}, \"type\": \"contourcarpet\"}], \"heatmap\": [{\"colorbar\": {\"outlinewidth\": 0, \"ticks\": \"\"}, \"colorscale\": [[0.0, \"#0d0887\"], [0.1111111111111111, \"#46039f\"], [0.2222222222222222, \"#7201a8\"], [0.3333333333333333, \"#9c179e\"], [0.4444444444444444, \"#bd3786\"], [0.5555555555555556, \"#d8576b\"], [0.6666666666666666, \"#ed7953\"], [0.7777777777777778, \"#fb9f3a\"], [0.8888888888888888, \"#fdca26\"], [1.0, \"#f0f921\"]], \"type\": \"heatmap\"}], \"heatmapgl\": [{\"colorbar\": {\"outlinewidth\": 0, \"ticks\": \"\"}, \"colorscale\": [[0.0, \"#0d0887\"], [0.1111111111111111, \"#46039f\"], [0.2222222222222222, \"#7201a8\"], [0.3333333333333333, \"#9c179e\"], [0.4444444444444444, \"#bd3786\"], [0.5555555555555556, \"#d8576b\"], [0.6666666666666666, \"#ed7953\"], [0.7777777777777778, \"#fb9f3a\"], [0.8888888888888888, \"#fdca26\"], [1.0, \"#f0f921\"]], \"type\": \"heatmapgl\"}], \"histogram\": [{\"marker\": {\"colorbar\": {\"outlinewidth\": 0, \"ticks\": \"\"}}, \"type\": \"histogram\"}], \"histogram2d\": [{\"colorbar\": {\"outlinewidth\": 0, \"ticks\": \"\"}, \"colorscale\": [[0.0, \"#0d0887\"], [0.1111111111111111, \"#46039f\"], [0.2222222222222222, \"#7201a8\"], [0.3333333333333333, \"#9c179e\"], [0.4444444444444444, \"#bd3786\"], [0.5555555555555556, \"#d8576b\"], [0.6666666666666666, \"#ed7953\"], [0.7777777777777778, \"#fb9f3a\"], [0.8888888888888888, \"#fdca26\"], [1.0, \"#f0f921\"]], \"type\": \"histogram2d\"}], \"histogram2dcontour\": [{\"colorbar\": {\"outlinewidth\": 0, \"ticks\": \"\"}, \"colorscale\": [[0.0, \"#0d0887\"], [0.1111111111111111, \"#46039f\"], [0.2222222222222222, \"#7201a8\"], [0.3333333333333333, \"#9c179e\"], [0.4444444444444444, \"#bd3786\"], [0.5555555555555556, \"#d8576b\"], [0.6666666666666666, \"#ed7953\"], [0.7777777777777778, \"#fb9f3a\"], [0.8888888888888888, \"#fdca26\"], [1.0, \"#f0f921\"]], \"type\": \"histogram2dcontour\"}], \"mesh3d\": [{\"colorbar\": {\"outlinewidth\": 0, \"ticks\": \"\"}, \"type\": \"mesh3d\"}], \"parcoords\": [{\"line\": {\"colorbar\": {\"outlinewidth\": 0, \"ticks\": \"\"}}, \"type\": \"parcoords\"}], \"pie\": [{\"automargin\": true, \"type\": \"pie\"}], \"scatter\": [{\"marker\": {\"colorbar\": {\"outlinewidth\": 0, \"ticks\": \"\"}}, \"type\": \"scatter\"}], \"scatter3d\": [{\"line\": {\"colorbar\": {\"outlinewidth\": 0, \"ticks\": \"\"}}, \"marker\": {\"colorbar\": {\"outlinewidth\": 0, \"ticks\": \"\"}}, \"type\": \"scatter3d\"}], \"scattercarpet\": [{\"marker\": {\"colorbar\": {\"outlinewidth\": 0, \"ticks\": \"\"}}, \"type\": \"scattercarpet\"}], \"scattergeo\": [{\"marker\": {\"colorbar\": {\"outlinewidth\": 0, \"ticks\": \"\"}}, \"type\": \"scattergeo\"}], \"scattergl\": [{\"marker\": {\"colorbar\": {\"outlinewidth\": 0, \"ticks\": \"\"}}, \"type\": \"scattergl\"}], \"scattermapbox\": [{\"marker\": {\"colorbar\": {\"outlinewidth\": 0, \"ticks\": \"\"}}, \"type\": \"scattermapbox\"}], \"scatterpolar\": [{\"marker\": {\"colorbar\": {\"outlinewidth\": 0, \"ticks\": \"\"}}, \"type\": \"scatterpolar\"}], \"scatterpolargl\": [{\"marker\": {\"colorbar\": {\"outlinewidth\": 0, \"ticks\": \"\"}}, \"type\": \"scatterpolargl\"}], \"scatterternary\": [{\"marker\": {\"colorbar\": {\"outlinewidth\": 0, \"ticks\": \"\"}}, \"type\": \"scatterternary\"}], \"surface\": [{\"colorbar\": {\"outlinewidth\": 0, \"ticks\": \"\"}, \"colorscale\": [[0.0, \"#0d0887\"], [0.1111111111111111, \"#46039f\"], [0.2222222222222222, \"#7201a8\"], [0.3333333333333333, \"#9c179e\"], [0.4444444444444444, \"#bd3786\"], [0.5555555555555556, \"#d8576b\"], [0.6666666666666666, \"#ed7953\"], [0.7777777777777778, \"#fb9f3a\"], [0.8888888888888888, \"#fdca26\"], [1.0, \"#f0f921\"]], \"type\": \"surface\"}], \"table\": [{\"cells\": {\"fill\": {\"color\": \"#EBF0F8\"}, \"line\": {\"color\": \"white\"}}, \"header\": {\"fill\": {\"color\": \"#C8D4E3\"}, \"line\": {\"color\": \"white\"}}, \"type\": \"table\"}]}, \"layout\": {\"annotationdefaults\": {\"arrowcolor\": \"#2a3f5f\", \"arrowhead\": 0, \"arrowwidth\": 1}, \"coloraxis\": {\"colorbar\": {\"outlinewidth\": 0, \"ticks\": \"\"}}, \"colorscale\": {\"diverging\": [[0, \"#8e0152\"], [0.1, \"#c51b7d\"], [0.2, \"#de77ae\"], [0.3, \"#f1b6da\"], [0.4, \"#fde0ef\"], [0.5, \"#f7f7f7\"], [0.6, \"#e6f5d0\"], [0.7, \"#b8e186\"], [0.8, \"#7fbc41\"], [0.9, \"#4d9221\"], [1, \"#276419\"]], \"sequential\": [[0.0, \"#0d0887\"], [0.1111111111111111, \"#46039f\"], [0.2222222222222222, \"#7201a8\"], [0.3333333333333333, \"#9c179e\"], [0.4444444444444444, \"#bd3786\"], [0.5555555555555556, \"#d8576b\"], [0.6666666666666666, \"#ed7953\"], [0.7777777777777778, \"#fb9f3a\"], [0.8888888888888888, \"#fdca26\"], [1.0, \"#f0f921\"]], \"sequentialminus\": [[0.0, \"#0d0887\"], [0.1111111111111111, \"#46039f\"], [0.2222222222222222, \"#7201a8\"], [0.3333333333333333, \"#9c179e\"], [0.4444444444444444, \"#bd3786\"], [0.5555555555555556, \"#d8576b\"], [0.6666666666666666, \"#ed7953\"], [0.7777777777777778, \"#fb9f3a\"], [0.8888888888888888, \"#fdca26\"], [1.0, \"#f0f921\"]]}, \"colorway\": [\"#636efa\", \"#EF553B\", \"#00cc96\", \"#ab63fa\", \"#FFA15A\", \"#19d3f3\", \"#FF6692\", \"#B6E880\", \"#FF97FF\", \"#FECB52\"], \"font\": {\"color\": \"#2a3f5f\"}, \"geo\": {\"bgcolor\": \"white\", \"lakecolor\": \"white\", \"landcolor\": \"#E5ECF6\", \"showlakes\": true, \"showland\": true, \"subunitcolor\": \"white\"}, \"hoverlabel\": {\"align\": \"left\"}, \"hovermode\": \"closest\", \"mapbox\": {\"style\": \"light\"}, \"paper_bgcolor\": \"white\", \"plot_bgcolor\": \"#E5ECF6\", \"polar\": {\"angularaxis\": {\"gridcolor\": \"white\", \"linecolor\": \"white\", \"ticks\": \"\"}, \"bgcolor\": \"#E5ECF6\", \"radialaxis\": {\"gridcolor\": \"white\", \"linecolor\": \"white\", \"ticks\": \"\"}}, \"scene\": {\"xaxis\": {\"backgroundcolor\": \"#E5ECF6\", \"gridcolor\": \"white\", \"gridwidth\": 2, \"linecolor\": \"white\", \"showbackground\": true, \"ticks\": \"\", \"zerolinecolor\": \"white\"}, \"yaxis\": {\"backgroundcolor\": \"#E5ECF6\", \"gridcolor\": \"white\", \"gridwidth\": 2, \"linecolor\": \"white\", \"showbackground\": true, \"ticks\": \"\", \"zerolinecolor\": \"white\"}, \"zaxis\": {\"backgroundcolor\": \"#E5ECF6\", \"gridcolor\": \"white\", \"gridwidth\": 2, \"linecolor\": \"white\", \"showbackground\": true, \"ticks\": \"\", \"zerolinecolor\": \"white\"}}, \"shapedefaults\": {\"line\": {\"color\": \"#2a3f5f\"}}, \"ternary\": {\"aaxis\": {\"gridcolor\": \"white\", \"linecolor\": \"white\", \"ticks\": \"\"}, \"baxis\": {\"gridcolor\": \"white\", \"linecolor\": \"white\", \"ticks\": \"\"}, \"bgcolor\": \"#E5ECF6\", \"caxis\": {\"gridcolor\": \"white\", \"linecolor\": \"white\", \"ticks\": \"\"}}, \"title\": {\"x\": 0.05}, \"xaxis\": {\"automargin\": true, \"gridcolor\": \"white\", \"linecolor\": \"white\", \"ticks\": \"\", \"title\": {\"standoff\": 15}, \"zerolinecolor\": \"white\", \"zerolinewidth\": 2}, \"yaxis\": {\"automargin\": true, \"gridcolor\": \"white\", \"linecolor\": \"white\", \"ticks\": \"\", \"title\": {\"standoff\": 15}, \"zerolinecolor\": \"white\", \"zerolinewidth\": 2}}}, \"width\": 250, \"xaxis\": {\"dtick\": 1, \"gridwidth\": 2, \"showticklabels\": false, \"tick0\": -0.5, \"ticks\": \"\", \"zeroline\": false}, \"yaxis\": {\"autorange\": \"reversed\", \"dtick\": 1, \"gridwidth\": 2, \"showticklabels\": false, \"tick0\": 0.5, \"ticks\": \"\", \"zeroline\": false}},\n",
       "                        {\"responsive\": true}\n",
       "                    ).then(function(){\n",
       "                            \n",
       "var gd = document.getElementById('c60eaa9a-7fcd-4bd5-b5ff-e355a284fe27');\n",
       "var x = new MutationObserver(function (mutations, observer) {{\n",
       "        var display = window.getComputedStyle(gd).display;\n",
       "        if (!display || display === 'none') {{\n",
       "            console.log([gd, 'removed!']);\n",
       "            Plotly.purge(gd);\n",
       "            observer.disconnect();\n",
       "        }}\n",
       "}});\n",
       "\n",
       "// Listen for the removal of the full notebook cells\n",
       "var notebookContainer = gd.closest('#notebook-container');\n",
       "if (notebookContainer) {{\n",
       "    x.observe(notebookContainer, {childList: true});\n",
       "}}\n",
       "\n",
       "// Listen for the clearing of the current output cell\n",
       "var outputEl = gd.closest('.output');\n",
       "if (outputEl) {{\n",
       "    x.observe(outputEl, {childList: true});\n",
       "}}\n",
       "\n",
       "                        })\n",
       "                };\n",
       "                });\n",
       "            </script>\n",
       "        </div>"
      ]
     },
     "metadata": {},
     "output_type": "display_data"
    }
   ],
   "source": [
    "fig_table = ff.create_table(df_score, height_constant=60,index=True,index_title='FIM 項目' )\n",
    "fig_table.layout.width=250\n",
    "fig_table.show()"
   ]
  },
  {
   "cell_type": "code",
   "execution_count": 174,
   "metadata": {},
   "outputs": [],
   "source": [
    "?px.line"
   ]
  },
  {
   "cell_type": "code",
   "execution_count": null,
   "metadata": {},
   "outputs": [],
   "source": []
  },
  {
   "cell_type": "code",
   "execution_count": null,
   "metadata": {},
   "outputs": [],
   "source": []
  },
  {
   "cell_type": "code",
   "execution_count": null,
   "metadata": {},
   "outputs": [],
   "source": []
  },
  {
   "cell_type": "code",
   "execution_count": 11,
   "metadata": {},
   "outputs": [],
   "source": [
    "def _acurate_sum(output_df, input_dict):\n",
    "    score_0M = input_dict[column_current]\n",
    "    score_1M = output_df[sum_1M]\n",
    "    score_2M = output_df[sum_2M]\n",
    "    score_3M = output_df[sum_3M]\n",
    "\n",
    "    #column名を揃える\n",
    "    score_1M.columns = column_current\n",
    "    score_2M.columns = column_current\n",
    "    score_3M.columns = column_current\n",
    "\n",
    "\n",
    "    #print(type(hoge_dict))\n",
    "    sum_0M_score = score_0M.sum(axis=1)\n",
    "    sum_1M_score = score_1M.sum(axis=1)\n",
    "    sum_2M_score = score_2M.sum(axis=1)\n",
    "    sum_3M_score = score_3M.sum(axis=1)\n",
    "\n",
    "    df_sum_score = [sum_0M_score, sum_1M_score,sum_2M_score,sum_3M_score]\n",
    "\n",
    "    df_score = pd.concat([score_0M, score_1M, score_2M, score_3M]).T\n",
    "    df_score.columns = [\"現在\", \"１ヶ月後予測\", \"2ヶ月後予測\", \"3ヶ月後予測\"]\n",
    "    \n",
    "    return df_sum_score, df_score\n"
   ]
  },
  {
   "cell_type": "code",
   "execution_count": 10,
   "metadata": {},
   "outputs": [],
   "source": [
    "data_dict = {\n",
    "    \"sex\":1,\n",
    "    \"age\":70,\n",
    "    \"disease\":2,\n",
    "    \"days\":4,\n",
    "    \"helper\":1,\n",
    "    \"meal\":4,\n",
    "    \"hygienic\":3,\n",
    "    \"wipingClean\":4,\n",
    "    \"upperBodyDressing\":4,\n",
    "    \"lowerBodyDressing\":4,\n",
    "    \"toiletAction\":3,\n",
    "    \"urinationControl\":5,\n",
    "    \"defecationControl\":5,\n",
    "    \"bedsChairsWheelchairs\":4,\n",
    "    \"toilet\":3,\n",
    "    \"bathtubShower\":3,\n",
    "    \"walkingWheelchair\":3,\n",
    "    \"stairs\":2,\n",
    "    \"understanding\":5,\n",
    "    \"expression\":5,\n",
    "    \"socialCommunication\":6,\n",
    "    \"problemSolving\":5,\n",
    "    \"memory\":5\n",
    "}"
   ]
  },
  {
   "cell_type": "code",
   "execution_count": 3,
   "metadata": {},
   "outputs": [],
   "source": [
    "input_columns = [\n",
    "    'sex','age','disease','days','helper','meal','hygienic','wipingClean','upperBodyDressing','lowerBodyDressing',\n",
    "    'toiletAction','urinationControl','defecationControl','bedsChairsWheelchairs','toilet','bathtubShower','walkingWheelchair',\n",
    "    'stairs','understanding','expression','socialCommunication','problemSolving','memory',\n",
    "]\n",
    "\n",
    "attributes = ['sex','age','disease','days','helper']\n",
    "\n",
    "column_current =['meal','hygienic','wipingClean','upperBodyDressing','lowerBodyDressing','toiletAction','urinationControl','defecationControl',\n",
    "            'bedsChairsWheelchairs','toilet','bathtubShower','walkingWheelchair','stairs','understanding','expression',\n",
    "            'socialCommunication','problemSolving','memory']\n",
    "\n",
    "column_current_ja = ['食事','整容','清拭','更衣上半身','更衣下半身','トイレ動作','排尿管理','排便管理','ベッド・椅子・車椅子移乗','トイレ移乗','浴槽・シャワー移乗','歩行・車椅子','階段','理解','表出','社会的交流','問題解決','記憶']\n",
    "\n",
    "column_afters =[\n",
    "    ['discharge'],\n",
    "    ['meal_after_1M','hygienic_after_1M','wipingClean_after_1M','upperBodyDressing_after_1M','lowerBodyDressing_after_1M','toiletAction_after_1M','urinationControl_after_1M',\n",
    "    'defecationControl_after_1M','bedsChairsWheelchairs_after_1M','toilet_after_1M','bathtubShower_after_1M','walkingWheelchair_after_1M',\n",
    "    'stairs_after_1M','understanding_after_1M','expression_after_1M','socialCommunication_after_1M','problemSolving_after_1M','memory_after_1M'],\n",
    "    ['meal_after_2M','hygienic_after_2M','wipingClean_after_2M','upperBodyDressing_after_2M','lowerBodyDressing_after_2M',\n",
    "    'toiletAction_after_2M','urinationControl_after_2M','defecationControl_after_2M','bedsChairsWheelchairs_after_2M','toilet_after_2M',\n",
    "    'bathtubShower_after_2M','walkingWheelchair_after_2M','stairs_after_2M','understanding_after_2M','expression_after_2M','socialCommunication_after_2M',\n",
    "    'problemSolving_after_2M','memory_after_2M'],\n",
    "    ['meal_after_3M','hygienic_after_3M','wipingClean_after_3M','upperBodyDressing_after_3M','lowerBodyDressing_after_3M',\n",
    "    'toiletAction_after_3M','urinationControl_after_3M','defecationControl_after_3M','bedsChairsWheelchairs_after_3M','toilet_after_3M',\n",
    "    'bathtubShower_after_3M','walkingWheelchair_after_3M','stairs_after_3M','understanding_after_3M','expression_after_3M','socialCommunication_after_3M',\n",
    "    'problemSolving_after_3M','memory_after_3M']\n",
    "    ]\n",
    "\n",
    "\n",
    "# predict colums \n",
    "sum_1M = ['meal_after_1M','hygienic_after_1M','wipingClean_after_1M','upperBodyDressing_after_1M','lowerBodyDressing_after_1M','toiletAction_after_1M','urinationControl_after_1M',\n",
    "    'defecationControl_after_1M','bedsChairsWheelchairs_after_1M','toilet_after_1M','bathtubShower_after_1M','walkingWheelchair_after_1M',\n",
    "    'stairs_after_1M','understanding_after_1M','expression_after_1M','socialCommunication_after_1M','problemSolving_after_1M','memory_after_1M'\n",
    "]\n",
    "sum_2M = ['meal_after_2M','hygienic_after_2M','wipingClean_after_2M','upperBodyDressing_after_2M','lowerBodyDressing_after_2M',\n",
    "    'toiletAction_after_2M','urinationControl_after_2M','defecationControl_after_2M','bedsChairsWheelchairs_after_2M','toilet_after_2M',\n",
    "    'bathtubShower_after_2M','walkingWheelchair_after_2M','stairs_after_2M','understanding_after_2M','expression_after_2M','socialCommunication_after_2M',\n",
    "    'problemSolving_after_2M','memory_after_2M'\n",
    "    ]\n",
    "\n",
    "sum_3M =['meal_after_3M','hygienic_after_3M','wipingClean_after_3M','upperBodyDressing_after_3M','lowerBodyDressing_after_3M',\n",
    "    'toiletAction_after_3M','urinationControl_after_3M','defecationControl_after_3M','bedsChairsWheelchairs_after_3M','toilet_after_3M',\n",
    "    'bathtubShower_after_3M','walkingWheelchair_after_3M','stairs_after_3M','understanding_after_3M','expression_after_3M','socialCommunication_after_3M',\n",
    "    'problemSolving_after_3M','memory_after_3M'\n",
    "]"
   ]
  },
  {
   "cell_type": "code",
   "execution_count": null,
   "metadata": {},
   "outputs": [],
   "source": []
  }
 ],
 "metadata": {
  "kernelspec": {
   "display_name": "Python 3",
   "language": "python",
   "name": "python3"
  }
 },
 "nbformat": 4,
 "nbformat_minor": 2
}
